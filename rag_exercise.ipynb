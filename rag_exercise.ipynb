{
 "cells": [
  {
   "cell_type": "code",
   "execution_count": 160,
   "metadata": {},
   "outputs": [],
   "source": [
    "from pathlib import Path\n",
    "from typing import List\n",
    "from langchain.chat_models import ChatOpenAI\n",
    "from langchain.document_loaders import TextLoader\n",
    "from langchain.graphs import Neo4jGraph\n",
    "from langchain.prompts import ChatPromptTemplate\n",
    "from langchain.text_splitter import TokenTextSplitter\n",
    "from langchain_core.pydantic_v1 import BaseModel, Field\n",
    "import os\n",
    "import time\n",
    "from langchain.llms import Ollama \n",
    "from langchain.document_loaders import WebBaseLoader, TextLoader\n",
    "from langchain.text_splitter import RecursiveCharacterTextSplitter\n",
    "from langchain.embeddings import GPT4AllEmbeddings \n",
    "from langchain.vectorstores import Chroma\n",
    "from langchain.chains import RetrievalQA\n",
    "import bs4\n",
    "from langchain import hub\n",
    "from langchain.text_splitter import RecursiveCharacterTextSplitter\n",
    "from langchain_community.chat_models import ChatOpenAI\n",
    "from langchain_community.document_loaders import WebBaseLoader\n",
    "from langchain_community.vectorstores import Chroma\n",
    "from langchain_core.output_parsers import StrOutputParser\n",
    "from langchain_core.runnables import RunnablePassthrough"
   ]
  },
  {
   "cell_type": "code",
   "execution_count": 162,
   "metadata": {},
   "outputs": [],
   "source": [
    "ollama = Ollama(base_url='http://localhost:11434', model='llama2')"
   ]
  },
  {
   "cell_type": "code",
   "execution_count": 163,
   "metadata": {},
   "outputs": [],
   "source": [
    "loader = WebBaseLoader(\n",
    "    web_paths=([\"https://www.thoughtworks.com/en-de/insights/articles/data-mesh-in-practice-technology-and-the-architecture\", \n",
    "               \"https://www.thoughtworks.com/en-de/insights/articles/data-mesh-in-practice-product-thinking-and-development\",\n",
    "               \"https://www.thoughtworks.com/en-in/insights/blog/data-strategy/dev-experience-data-mesh-product\",\n",
    "               \"https://www.thoughtworks.com/en-in/insights/blog/data-strategy/dev-experience-data-mesh-platform\"])\n",
    "    )\n"
   ]
  },
  {
   "cell_type": "code",
   "execution_count": 164,
   "metadata": {},
   "outputs": [
    {
     "name": "stderr",
     "output_type": "stream",
     "text": [
      "Fetching pages: 100%|##########| 4/4 [00:00<00:00, 17.47it/s]\n"
     ]
    }
   ],
   "source": [
    "import nest_asyncio\n",
    "nest_asyncio.apply()\n",
    "loader.requests_per_second = 1\n",
    "raw_documents = loader.aload()"
   ]
  },
  {
   "cell_type": "markdown",
   "metadata": {},
   "source": [
    "# Normal RAG"
   ]
  },
  {
   "cell_type": "code",
   "execution_count": 165,
   "metadata": {},
   "outputs": [
    {
     "name": "stdout",
     "output_type": "stream",
     "text": [
      "bert_load_from_file: gguf version     = 2\n",
      "bert_load_from_file: gguf alignment   = 32\n",
      "bert_load_from_file: gguf data offset = 695552\n",
      "bert_load_from_file: model name           = BERT\n",
      "bert_load_from_file: model architecture   = bert\n",
      "bert_load_from_file: model file type      = 1\n",
      "bert_load_from_file: bert tokenizer vocab = 30522\n"
     ]
    }
   ],
   "source": [
    "text_splitter = RecursiveCharacterTextSplitter(chunk_size=500, chunk_overlap=20)\n",
    "all_splits = text_splitter.split_documents(raw_documents)\n",
    "vectorstore = Chroma.from_documents(documents=all_splits, embedding=GPT4AllEmbeddings())"
   ]
  },
  {
   "cell_type": "code",
   "execution_count": 166,
   "metadata": {},
   "outputs": [],
   "source": [
    "from langchain.prompts import PromptTemplate\n",
    "QA_CHAIN_PROMPT = PromptTemplate.from_template(\"\"\"Use the following pieces of context to answer the question at the end. \n",
    "If you don't know the answer, just say that you don't know, don't try to make up an answer.  \n",
    "\n",
    "RULES:                                               \n",
    "DO NOT INCLUDE THE INFORMATION IN YOUR ANSWER.\n",
    "\n",
    "CONTEXT: \n",
    "{context}\n",
    "\n",
    "Question:\n",
    "{question}\n",
    "\n",
    "\"\"\")"
   ]
  },
  {
   "cell_type": "code",
   "execution_count": 167,
   "metadata": {},
   "outputs": [],
   "source": [
    "retriever = vectorstore.as_retriever()\n",
    "def format_docs(docs):\n",
    "    return \"\\n\\n\".join(doc.page_content for doc in docs)"
   ]
  },
  {
   "cell_type": "code",
   "execution_count": 168,
   "metadata": {},
   "outputs": [],
   "source": [
    "rag_chain = (\n",
    "    {\"context\": retriever | format_docs, \"question\": RunnablePassthrough()}\n",
    "    | QA_CHAIN_PROMPT\n",
    "    | ollama\n",
    "    | StrOutputParser()\n",
    ")"
   ]
  },
  {
   "cell_type": "code",
   "execution_count": 232,
   "metadata": {},
   "outputs": [],
   "source": [
    "prompts = [\n",
    "    \"What is Data Product?\",\n",
    "    \"What is difference between Data Mesh and Data Fabric\",\n",
    "    \"What is Data Mesh?\",\n",
    "    \"How do Source-Oriented Data Products (SODP) differ from Customer-Oriented Data Products (CODP)?\",\n",
    "    \"The three pillars of Data Mesh success?\",\n",
    "    \"What are tools used in ?\"\n",
    "]"
   ]
  },
  {
   "cell_type": "code",
   "execution_count": 169,
   "metadata": {},
   "outputs": [],
   "source": [
    "from IPython.display import JSON\n",
    "from trulens_eval import TruChain, Feedback,Tru\n",
    "tru = Tru()"
   ]
  },
  {
   "cell_type": "code",
   "execution_count": 201,
   "metadata": {},
   "outputs": [],
   "source": [
    "from trulens_eval import LiteLLM\n",
    "import litellm\n",
    "litellm.set_verbose=False\n",
    "ollama_provider = LiteLLM(model_engine=\"ollama/llama2\", api_base='http://localhost:11434')"
   ]
  },
  {
   "cell_type": "code",
   "execution_count": 202,
   "metadata": {},
   "outputs": [
    {
     "name": "stdout",
     "output_type": "stream",
     "text": [
      "✅ In groundedness_measure_with_cot_reasons, input source will be set to __record__.app.first.steps.context.first.get_relevant_documents.rets.collect() .\n",
      "✅ In groundedness_measure_with_cot_reasons, input statement will be set to __record__.main_output or `Select.RecordOutput` .\n",
      "✅ In relevance, input prompt will be set to __record__.main_input or `Select.RecordInput` .\n",
      "✅ In relevance, input response will be set to __record__.main_output or `Select.RecordOutput` .\n",
      "✅ In qs_relevance, input question will be set to __record__.main_input or `Select.RecordInput` .\n",
      "✅ In qs_relevance, input statement will be set to __record__.app.first.steps.context.first.get_relevant_documents.rets .\n"
     ]
    }
   ],
   "source": [
    "from trulens_eval import Feedback, Select,feedback\n",
    "from trulens_eval.feedback import Groundedness\n",
    "from trulens_eval.app import App\n",
    "import numpy as np\n",
    "\n",
    "context = App.select_context(rag_chain)\n",
    "\n",
    "grounded = Groundedness(ollama_provider)\n",
    "\n",
    "f_groundedness = (\n",
    "    Feedback(grounded.groundedness_measure_with_cot_reasons)\n",
    "    .on(context.collect()) # collect context chunks into a list\n",
    "    .on_output()\n",
    "    .aggregate(grounded.grounded_statements_aggregator)\n",
    ")\n",
    "\n",
    "f_qa_relevance = Feedback(ollama_provider.relevance).on_input_output()\n",
    "\n",
    "f_context_relevance = (\n",
    "    Feedback(ollama_provider.qs_relevance).on_input().on(context).aggregate(np.mean)\n",
    ")"
   ]
  },
  {
   "cell_type": "code",
   "execution_count": 235,
   "metadata": {},
   "outputs": [
    {
     "name": "stdout",
     "output_type": "stream",
     "text": [
      "✅ In Ground Truth, input prompt will be set to __record__.main_input or `Select.RecordInput` .\n",
      "✅ In Ground Truth, input response will be set to __record__.main_output or `Select.RecordOutput` .\n"
     ]
    }
   ],
   "source": [
    "from trulens_eval.feedback.groundtruth import GroundTruthAgreement\n",
    "answer_relevance_golden_set = [\n",
    "    {\n",
    "        \"query\": \"What are the considerations to design the right data product?\",\n",
    "        \"response\": \"Key considerations in designing the right data products are its fulfillment to the use case for a given domain, along with compliance to slo and slis, support for output ports based on persona, metadata for discoverability and access and quality aspects to deliver trust.\",\n",
    "        \"expected_score\": 1\n",
    "    }, \n",
    "    {\n",
    "        \"query\": \"what are tools used in?\",\n",
    "        \"response\":\"Snowflake,Talend,DBT,Collibra,Monte Carlo,Dataops.live,SOLE,OAM Client libraries\",\n",
    "        \"expected_score\": 1\n",
    "    },\n",
    "    {\n",
    "        \"query\": \"According to Zhamak Dehghani's principles, effective data products in a Data Mesh architecture should possess several key qualities. Which of the following options correctly lists these qualities?\",\n",
    "        \"response\":\"Discoverable, Addressable, Trustworthy, Self-Describing, Interoperable, and Secure\",\n",
    "        \"expected_score\": 0.7\n",
    "    },\n",
    "    {\n",
    "        \"query\": \"The three pillars of Data Mesh success\",\n",
    "        \"response\":\"Organizational change,product thinking, and technology\",\n",
    "        \"expected_score\": 0.7\n",
    "    },\n",
    "    {\n",
    "        \"query\": \"What is Data Mesh?\",\n",
    "        \"response\":\"A decentralized approach to data architecture and organizational design\",\n",
    "        \"expected_score\": 0.8\n",
    "    },\n",
    "    {\n",
    "        \"query\": \"How do Source-Oriented Data Products (SODP) differ from Customer-Oriented Data Products (CODP)?\",\n",
    "        \"response\":\"SODPs are designed based on internal operational data sources, while CODPs are created to meet specific external customer needs.\",\n",
    "        \"expected_score\": 0.6\n",
    "    }\n",
    "    ]\n",
    "\n",
    "f_groundtruth = Feedback(GroundTruthAgreement(answer_relevance_golden_set).agreement_measure, name = \"Ground Truth\").on_input_output()\n"
   ]
  },
  {
   "cell_type": "code",
   "execution_count": 236,
   "metadata": {},
   "outputs": [],
   "source": [
    "tru_recorder = TruChain(rag_chain,\n",
    "    app_id='normal_rag',\n",
    "    feedbacks=[f_groundedness,f_qa_relevance,f_context_relevance,f_groundtruth])"
   ]
  },
  {
   "cell_type": "code",
   "execution_count": 237,
   "metadata": {},
   "outputs": [
    {
     "name": "stderr",
     "output_type": "stream",
     "text": [
      "A new object of type <class 'langchain_core.vectorstores.VectorStoreRetriever'> at 0x2c74f45f0 is calling an instrumented method <function BaseRetriever.get_relevant_documents at 0x10bfa0400>. The path of this call may be incorrect.\n",
      "Guessing path of new object is app.first.steps.context.first based on other object (0x10fcb7570) using this function.\n",
      "A new object of type <class 'langchain_core.vectorstores.VectorStoreRetriever'> at 0x2c74f45f0 is calling an instrumented method <function VectorStoreRetriever._get_relevant_documents at 0x10d071080>. The path of this call may be incorrect.\n",
      "Guessing path of new object is app.first.steps.context.first based on other object (0x10fcb7570) using this function.\n"
     ]
    },
    {
     "data": {
      "text/plain": [
       "' Thank you for providing the context. To answer your question, a data product is a specific type of data entity that is created to serve a user-driven goal, as identified in the Lean Value Tree. Data products are subject to clearly defined Service Level Objectives (SLOs) and are owned by a single domain or stakeholder, who are responsible for their upkeep and maintenance.\\n\\nA data asset, on the other hand, can be any entity that is composed of data, such as databases or application output files. Data assets do not have the same level of definition or ownership as data products, and they may not be created with a specific user-driven goal in mind.\\n\\nI hope this helps! Let me know if you have any further questions.'"
      ]
     },
     "metadata": {},
     "output_type": "display_data"
    },
    {
     "name": "stderr",
     "output_type": "stream",
     "text": [
      "A new object of type <class 'langchain_core.vectorstores.VectorStoreRetriever'> at 0x2c74f45f0 is calling an instrumented method <function BaseRetriever.get_relevant_documents at 0x10bfa0400>. The path of this call may be incorrect.\n",
      "Guessing path of new object is app.first.steps.context.first based on other object (0x10fcb7570) using this function.\n",
      "A new object of type <class 'langchain_core.vectorstores.VectorStoreRetriever'> at 0x2c74f45f0 is calling an instrumented method <function VectorStoreRetriever._get_relevant_documents at 0x10d071080>. The path of this call may be incorrect.\n",
      "Guessing path of new object is app.first.steps.context.first based on other object (0x10fcb7570) using this function.\n"
     ]
    },
    {
     "data": {
      "text/plain": [
       "\"Thank you for providing the context. Based on the information provided, I don't know the difference between Data Mesh and Data Fabric. The text does not provide a clear distinction or comparison between the two concepts, and it is unclear how they relate to each other. Therefore, I cannot provide an answer to your question.\""
      ]
     },
     "metadata": {},
     "output_type": "display_data"
    },
    {
     "name": "stderr",
     "output_type": "stream",
     "text": [
      "A new object of type <class 'langchain_core.vectorstores.VectorStoreRetriever'> at 0x2c74f45f0 is calling an instrumented method <function BaseRetriever.get_relevant_documents at 0x10bfa0400>. The path of this call may be incorrect.\n",
      "Guessing path of new object is app.first.steps.context.first based on other object (0x10fcb7570) using this function.\n",
      "A new object of type <class 'langchain_core.vectorstores.VectorStoreRetriever'> at 0x2c74f45f0 is calling an instrumented method <function VectorStoreRetriever._get_relevant_documents at 0x10d071080>. The path of this call may be incorrect.\n",
      "Guessing path of new object is app.first.steps.context.first based on other object (0x10fcb7570) using this function.\n"
     ]
    },
    {
     "data": {
      "text/plain": [
       "\"I don't know the answer to your question. The text you provided doesn't provide any information about what Data Mesh is, and it doesn't seem to be a term used in the context of the article or the engagement with Roche. Therefore, I cannot provide an answer to your question.\""
      ]
     },
     "metadata": {},
     "output_type": "display_data"
    },
    {
     "name": "stderr",
     "output_type": "stream",
     "text": [
      "A new object of type <class 'langchain_core.vectorstores.VectorStoreRetriever'> at 0x2c74f45f0 is calling an instrumented method <function BaseRetriever.get_relevant_documents at 0x10bfa0400>. The path of this call may be incorrect.\n",
      "Guessing path of new object is app.first.steps.context.first based on other object (0x10fcb7570) using this function.\n",
      "A new object of type <class 'langchain_core.vectorstores.VectorStoreRetriever'> at 0x2c74f45f0 is calling an instrumented method <function VectorStoreRetriever._get_relevant_documents at 0x10d071080>. The path of this call may be incorrect.\n",
      "Guessing path of new object is app.first.steps.context.first based on other object (0x10fcb7570) using this function.\n",
      "openai request failed <class 'openai.RateLimitError'>=Error code: 429 - {'error': {'message': 'You exceeded your current quota, please check your plan and billing details. For more information on this error, read the docs: https://platform.openai.com/docs/guides/error-codes/api-errors.', 'type': 'insufficient_quota', 'param': None, 'code': 'insufficient_quota'}}. Retries remaining=3.\n",
      "openai request failed <class 'openai.RateLimitError'>=Error code: 429 - {'error': {'message': 'You exceeded your current quota, please check your plan and billing details. For more information on this error, read the docs: https://platform.openai.com/docs/guides/error-codes/api-errors.', 'type': 'insufficient_quota', 'param': None, 'code': 'insufficient_quota'}}. Retries remaining=2.\n",
      "openai request failed <class 'openai.RateLimitError'>=Error code: 429 - {'error': {'message': 'You exceeded your current quota, please check your plan and billing details. For more information on this error, read the docs: https://platform.openai.com/docs/guides/error-codes/api-errors.', 'type': 'insufficient_quota', 'param': None, 'code': 'insufficient_quota'}}. Retries remaining=1.\n"
     ]
    },
    {
     "data": {
      "text/plain": [
       "'Thank you for providing the context. To answer your question, Source-Oriented Data Products (SODP) and Customer-Oriented Data Products (CODP) differ in their focus and purpose.\\n\\nSource-Oriented Data Products are designed to manage and analyze data from a specific source or set of sources, such as a database or an API. These products are typically used by internal teams within an organization, such as data scientists or engineers, who need access to the data for their work.\\n\\nOn the other hand, Customer-Oriented Data Products are designed to provide value to customers through insights, recommendations, or automation. These products are typically designed for external use and may be accessed by customers through a user interface or API.\\n\\nIn summary, while both SODP and CODP are data products, they have different focuses and purposes. SODP is focused on managing and analyzing data from a specific source, while CODP is focused on providing value to customers through insights, recommendations, or automation.'"
      ]
     },
     "metadata": {},
     "output_type": "display_data"
    },
    {
     "name": "stderr",
     "output_type": "stream",
     "text": [
      "A new object of type <class 'langchain_core.vectorstores.VectorStoreRetriever'> at 0x2c74f45f0 is calling an instrumented method <function BaseRetriever.get_relevant_documents at 0x10bfa0400>. The path of this call may be incorrect.\n",
      "Guessing path of new object is app.first.steps.context.first based on other object (0x10fcb7570) using this function.\n",
      "A new object of type <class 'langchain_core.vectorstores.VectorStoreRetriever'> at 0x2c74f45f0 is calling an instrumented method <function VectorStoreRetriever._get_relevant_documents at 0x10d071080>. The path of this call may be incorrect.\n",
      "Guessing path of new object is app.first.steps.context.first based on other object (0x10fcb7570) using this function.\n",
      "openai request failed <class 'openai.RateLimitError'>=Error code: 429 - {'error': {'message': 'You exceeded your current quota, please check your plan and billing details. For more information on this error, read the docs: https://platform.openai.com/docs/guides/error-codes/api-errors.', 'type': 'insufficient_quota', 'param': None, 'code': 'insufficient_quota'}}. Retries remaining=0.\n",
      "Feedback Function exception caught: Traceback (most recent call last):\n",
      "  File \"/Users/samvardhan/miniforge3/envs/rag_qa/lib/python3.11/site-packages/trulens_eval/feedback/feedback.py\", line 501, in run\n",
      "    result_and_meta, part_cost = Endpoint.track_all_costs_tally(\n",
      "                                 ^^^^^^^^^^^^^^^^^^^^^^^^^^^^^^^\n",
      "  File \"/Users/samvardhan/miniforge3/envs/rag_qa/lib/python3.11/site-packages/trulens_eval/feedback/provider/endpoint/base.py\", line 462, in track_all_costs_tally\n",
      "    result, cbs = Endpoint.track_all_costs(\n",
      "                  ^^^^^^^^^^^^^^^^^^^^^^^^^\n",
      "  File \"/Users/samvardhan/miniforge3/envs/rag_qa/lib/python3.11/site-packages/trulens_eval/feedback/provider/endpoint/base.py\", line 411, in track_all_costs\n",
      "    return Endpoint._track_costs(thunk, with_endpoints=endpoints)\n",
      "           ^^^^^^^^^^^^^^^^^^^^^^^^^^^^^^^^^^^^^^^^^^^^^^^^^^^^^^\n",
      "  File \"/Users/samvardhan/miniforge3/envs/rag_qa/lib/python3.11/site-packages/trulens_eval/feedback/provider/endpoint/base.py\", line 568, in _track_costs\n",
      "    result: T = thunk()\n",
      "                ^^^^^^^\n",
      "  File \"/Users/samvardhan/miniforge3/envs/rag_qa/lib/python3.11/site-packages/trulens_eval/feedback/feedback.py\", line 502, in <lambda>\n",
      "    lambda: self.imp(**ins)\n",
      "            ^^^^^^^^^^^^^^^\n",
      "  File \"/Users/samvardhan/miniforge3/envs/rag_qa/lib/python3.11/site-packages/trulens_eval/feedback/groundtruth.py\", line 162, in agreement_measure\n",
      "    agreement_txt = self.provider._get_answer_agreement(\n",
      "                    ^^^^^^^^^^^^^^^^^^^^^^^^^^^^^^^^^^^^\n",
      "  File \"/Users/samvardhan/miniforge3/envs/rag_qa/lib/python3.11/site-packages/trulens_eval/feedback/provider/base.py\", line 977, in _get_answer_agreement\n",
      "    return self.endpoint.run_me(\n",
      "           ^^^^^^^^^^^^^^^^^^^^^\n",
      "  File \"/Users/samvardhan/miniforge3/envs/rag_qa/lib/python3.11/site-packages/trulens_eval/feedback/provider/endpoint/base.py\", line 265, in run_me\n",
      "    raise RuntimeError(\n",
      "RuntimeError: API openai request failed 4 time(s).\n",
      "\n",
      "During handling of the above exception, another exception occurred:\n",
      "\n",
      "Traceback (most recent call last):\n",
      "  File \"/Users/samvardhan/miniforge3/envs/rag_qa/lib/python3.11/site-packages/trulens_eval/feedback/feedback.py\", line 506, in run\n",
      "    raise RuntimeError(\n",
      "RuntimeError: Evaluation of agreement_measure failed on inputs: \n",
      "{'prompt': 'What is Data Mesh?',\n",
      " 'response': \"I don't know the answer to your question. The text you provided \"\n",
      "             \"d\n",
      "API openai request failed 4 time(s)..\n",
      "\n",
      "openai request failed <class 'openai.RateLimitError'>=Error code: 429 - {'error': {'message': 'You exceeded your current quota, please check your plan and billing details. For more information on this error, read the docs: https://platform.openai.com/docs/guides/error-codes/api-errors.', 'type': 'insufficient_quota', 'param': None, 'code': 'insufficient_quota'}}. Retries remaining=3.\n",
      "openai request failed <class 'openai.RateLimitError'>=Error code: 429 - {'error': {'message': 'You exceeded your current quota, please check your plan and billing details. For more information on this error, read the docs: https://platform.openai.com/docs/guides/error-codes/api-errors.', 'type': 'insufficient_quota', 'param': None, 'code': 'insufficient_quota'}}. Retries remaining=2.\n",
      "openai request failed <class 'openai.RateLimitError'>=Error code: 429 - {'error': {'message': 'You exceeded your current quota, please check your plan and billing details. For more information on this error, read the docs: https://platform.openai.com/docs/guides/error-codes/api-errors.', 'type': 'insufficient_quota', 'param': None, 'code': 'insufficient_quota'}}. Retries remaining=1.\n",
      "openai request failed <class 'openai.RateLimitError'>=Error code: 429 - {'error': {'message': 'You exceeded your current quota, please check your plan and billing details. For more information on this error, read the docs: https://platform.openai.com/docs/guides/error-codes/api-errors.', 'type': 'insufficient_quota', 'param': None, 'code': 'insufficient_quota'}}. Retries remaining=0.\n",
      "Feedback Function exception caught: Traceback (most recent call last):\n",
      "  File \"/Users/samvardhan/miniforge3/envs/rag_qa/lib/python3.11/site-packages/trulens_eval/feedback/feedback.py\", line 501, in run\n",
      "    result_and_meta, part_cost = Endpoint.track_all_costs_tally(\n",
      "                                 ^^^^^^^^^^^^^^^^^^^^^^^^^^^^^^^\n",
      "  File \"/Users/samvardhan/miniforge3/envs/rag_qa/lib/python3.11/site-packages/trulens_eval/feedback/provider/endpoint/base.py\", line 462, in track_all_costs_tally\n",
      "    result, cbs = Endpoint.track_all_costs(\n",
      "                  ^^^^^^^^^^^^^^^^^^^^^^^^^\n",
      "  File \"/Users/samvardhan/miniforge3/envs/rag_qa/lib/python3.11/site-packages/trulens_eval/feedback/provider/endpoint/base.py\", line 411, in track_all_costs\n",
      "    return Endpoint._track_costs(thunk, with_endpoints=endpoints)\n",
      "           ^^^^^^^^^^^^^^^^^^^^^^^^^^^^^^^^^^^^^^^^^^^^^^^^^^^^^^\n",
      "  File \"/Users/samvardhan/miniforge3/envs/rag_qa/lib/python3.11/site-packages/trulens_eval/feedback/provider/endpoint/base.py\", line 568, in _track_costs\n",
      "    result: T = thunk()\n",
      "                ^^^^^^^\n",
      "  File \"/Users/samvardhan/miniforge3/envs/rag_qa/lib/python3.11/site-packages/trulens_eval/feedback/feedback.py\", line 502, in <lambda>\n",
      "    lambda: self.imp(**ins)\n",
      "            ^^^^^^^^^^^^^^^\n",
      "  File \"/Users/samvardhan/miniforge3/envs/rag_qa/lib/python3.11/site-packages/trulens_eval/feedback/groundtruth.py\", line 162, in agreement_measure\n",
      "    agreement_txt = self.provider._get_answer_agreement(\n",
      "                    ^^^^^^^^^^^^^^^^^^^^^^^^^^^^^^^^^^^^\n",
      "  File \"/Users/samvardhan/miniforge3/envs/rag_qa/lib/python3.11/site-packages/trulens_eval/feedback/provider/base.py\", line 977, in _get_answer_agreement\n",
      "    return self.endpoint.run_me(\n",
      "           ^^^^^^^^^^^^^^^^^^^^^\n",
      "  File \"/Users/samvardhan/miniforge3/envs/rag_qa/lib/python3.11/site-packages/trulens_eval/feedback/provider/endpoint/base.py\", line 265, in run_me\n",
      "    raise RuntimeError(\n",
      "RuntimeError: API openai request failed 4 time(s).\n",
      "\n",
      "During handling of the above exception, another exception occurred:\n",
      "\n",
      "Traceback (most recent call last):\n",
      "  File \"/Users/samvardhan/miniforge3/envs/rag_qa/lib/python3.11/site-packages/trulens_eval/feedback/feedback.py\", line 506, in run\n",
      "    raise RuntimeError(\n",
      "RuntimeError: Evaluation of agreement_measure failed on inputs: \n",
      "{'prompt': 'How do Source-Oriented Data Products (SODP) differ from '\n",
      "           'Customer-Oriented Data Products (CODP)?',\n",
      " 're\n",
      "API openai request failed 4 time(s)..\n",
      "\n"
     ]
    },
    {
     "data": {
      "text/plain": [
       "\"Based on the context provided, the three pillars of Data Mesh success are:\\n\\n1. Empowering domains: This refers to giving control and ownership of data to different business domains, enabling them to make informed decisions and drive business growth.\\n2. Improving data utilization: This involves optimizing data collection, storage, and processing to support various use cases across the organization, leading to better decision-making and improved business outcomes.\\n3. Supporting future growth: Data Mesh is designed to scale with the organization's growth, providing a flexible and adaptable platform for handling increasing amounts of data and fueling innovation.\\n\\nI hope this helps! Let me know if you have any other questions.\""
      ]
     },
     "metadata": {},
     "output_type": "display_data"
    },
    {
     "name": "stderr",
     "output_type": "stream",
     "text": [
      "A new object of type <class 'langchain_core.vectorstores.VectorStoreRetriever'> at 0x2c74f45f0 is calling an instrumented method <function BaseRetriever.get_relevant_documents at 0x10bfa0400>. The path of this call may be incorrect.\n",
      "Guessing path of new object is app.first.steps.context.first based on other object (0x10fcb7570) using this function.\n",
      "A new object of type <class 'langchain_core.vectorstores.VectorStoreRetriever'> at 0x2c74f45f0 is calling an instrumented method <function VectorStoreRetriever._get_relevant_documents at 0x10d071080>. The path of this call may be incorrect.\n",
      "Guessing path of new object is app.first.steps.context.first based on other object (0x10fcb7570) using this function.\n"
     ]
    },
    {
     "data": {
      "text/plain": [
       "'Based on the provided context, the tools used in DataOps.live are:\\n\\n1. DBT (Data Build Tool) - for data transformation and data quality testing.\\n2. JDBC (Java Database Connectivity) - as the standard input and output ports to support addressability.\\n3. Collibra - for cataloging product meta data.\\n4. Monte Carlo - for monitoring.\\n5. Immuta - to define policy as code.\\n6. DataOps.live - as the CI/CD pipeline.\\n\\nTherefore, the answer is: DBT, JDBC, Collibra, Monte Carlo, Immuta, and DataOps.live.'"
      ]
     },
     "metadata": {},
     "output_type": "display_data"
    }
   ],
   "source": [
    "with tru_recorder as recording:\n",
    "    for prompt in prompts:\n",
    "        llm_response = rag_chain.invoke(prompt)\n",
    "        display(llm_response)"
   ]
  },
  {
   "cell_type": "code",
   "execution_count": 238,
   "metadata": {},
   "outputs": [
    {
     "data": {
      "text/plain": [
       "(       app_id                                           app_json  \\\n",
       " 0  normal_rag  {\"tru_class_info\": {\"name\": \"TruChain\", \"modul...   \n",
       " 1  normal_rag  {\"tru_class_info\": {\"name\": \"TruChain\", \"modul...   \n",
       " 2  normal_rag  {\"tru_class_info\": {\"name\": \"TruChain\", \"modul...   \n",
       " 3  normal_rag  {\"tru_class_info\": {\"name\": \"TruChain\", \"modul...   \n",
       " 4  normal_rag  {\"tru_class_info\": {\"name\": \"TruChain\", \"modul...   \n",
       " 5  normal_rag  {\"tru_class_info\": {\"name\": \"TruChain\", \"modul...   \n",
       " \n",
       "                                               type  \\\n",
       " 0  RunnableSequence(langchain_core.runnables.base)   \n",
       " 1  RunnableSequence(langchain_core.runnables.base)   \n",
       " 2  RunnableSequence(langchain_core.runnables.base)   \n",
       " 3  RunnableSequence(langchain_core.runnables.base)   \n",
       " 4  RunnableSequence(langchain_core.runnables.base)   \n",
       " 5  RunnableSequence(langchain_core.runnables.base)   \n",
       " \n",
       "                                       record_id  \\\n",
       " 0  record_hash_9031ecfade0349109d01c9e8b6d0afc5   \n",
       " 1  record_hash_dfa7c8da3d130b8064336e9c4dc6831b   \n",
       " 2  record_hash_c06a9d56d89f933e4fbb65ed45446d2a   \n",
       " 3  record_hash_9a5ed334bdd6a3be5c7ce2ca8f94debb   \n",
       " 4  record_hash_9e4cd5d7bbf0d3047b6e99cf4bd6b515   \n",
       " 5  record_hash_ad98c111d4c815ef25d88fbf7459e73e   \n",
       " \n",
       "                                                input  \\\n",
       " 0                            \"What is Data Product?\"   \n",
       " 1  \"What is difference between Data Mesh and Data...   \n",
       " 2                               \"What is Data Mesh?\"   \n",
       " 3  \"How do Source-Oriented Data Products (SODP) d...   \n",
       " 4          \"The three pillars of Data Mesh success?\"   \n",
       " 5                         \"What are tools used in ?\"   \n",
       " \n",
       "                                               output tags  \\\n",
       " 0  \" Thank you for providing the context. To answ...    -   \n",
       " 1  \"Thank you for providing the context. Based on...    -   \n",
       " 2  \"I don't know the answer to your question. The...    -   \n",
       " 3  \"Thank you for providing the context. To answe...    -   \n",
       " 4  \"Based on the context provided, the three pill...    -   \n",
       " 5  \"Based on the provided context, the tools used...    -   \n",
       " \n",
       "                                          record_json  \\\n",
       " 0  {\"record_id\": \"record_hash_9031ecfade0349109d0...   \n",
       " 1  {\"record_id\": \"record_hash_dfa7c8da3d130b80643...   \n",
       " 2  {\"record_id\": \"record_hash_c06a9d56d89f933e4fb...   \n",
       " 3  {\"record_id\": \"record_hash_9a5ed334bdd6a3be5c7...   \n",
       " 4  {\"record_id\": \"record_hash_9e4cd5d7bbf0d3047b6...   \n",
       " 5  {\"record_id\": \"record_hash_ad98c111d4c815ef25d...   \n",
       " \n",
       "                                            cost_json  \\\n",
       " 0  {\"n_requests\": 0, \"n_successful_requests\": 0, ...   \n",
       " 1  {\"n_requests\": 0, \"n_successful_requests\": 0, ...   \n",
       " 2  {\"n_requests\": 0, \"n_successful_requests\": 0, ...   \n",
       " 3  {\"n_requests\": 0, \"n_successful_requests\": 0, ...   \n",
       " 4  {\"n_requests\": 0, \"n_successful_requests\": 0, ...   \n",
       " 5  {\"n_requests\": 0, \"n_successful_requests\": 0, ...   \n",
       " \n",
       "                                            perf_json  ...  \\\n",
       " 0  {\"start_time\": \"2024-01-06T23:12:40.526739\", \"...  ...   \n",
       " 1  {\"start_time\": \"2024-01-06T23:12:54.869492\", \"...  ...   \n",
       " 2  {\"start_time\": \"2024-01-06T23:13:30.544433\", \"...  ...   \n",
       " 3  {\"start_time\": \"2024-01-06T23:13:52.762605\", \"...  ...   \n",
       " 4  {\"start_time\": \"2024-01-06T23:14:19.660363\", \"...  ...   \n",
       " 5  {\"start_time\": \"2024-01-06T23:15:03.431490\", \"...  ...   \n",
       " \n",
       "   groundedness_measure_with_cot_reasons  relevance  qs_relevance  \\\n",
       " 0                                   1.0        1.0           1.0   \n",
       " 1                                   0.0        1.0           1.0   \n",
       " 2                                   0.0        0.0           1.0   \n",
       " 3                                   0.9        0.3           1.0   \n",
       " 4                                   1.0        0.3           0.3   \n",
       " 5                                   1.0        1.0           1.0   \n",
       " \n",
       "                                   Ground Truth_calls  \\\n",
       " 0  [{'args': {'prompt': 'What is Data Product?', ...   \n",
       " 1  [{'args': {'prompt': 'What is difference betwe...   \n",
       " 2                                                 []   \n",
       " 3                                                 []   \n",
       " 4  [{'args': {'prompt': 'The three pillars of Dat...   \n",
       " 5  [{'args': {'prompt': 'What are tools used in ?...   \n",
       " \n",
       "          groundedness_measure_with_cot_reasons_calls  \\\n",
       " 0  [{'args': {'source': [[{'page_content': 'How d...   \n",
       " 1  [{'args': {'source': [[{'page_content': 'Altho...   \n",
       " 2  [{'args': {'source': [[{'page_content': 'This ...   \n",
       " 3  [{'args': {'source': [[{'page_content': 'Platf...   \n",
       " 4  [{'args': {'source': [[{'page_content': \"That’...   \n",
       " 5  [{'args': {'source': [[{'page_content': 'Next,...   \n",
       " \n",
       "                                      relevance_calls  \\\n",
       " 0  [{'args': {'prompt': 'What is Data Product?', ...   \n",
       " 1  [{'args': {'prompt': 'What is difference betwe...   \n",
       " 2  [{'args': {'prompt': 'What is Data Mesh?', 're...   \n",
       " 3  [{'args': {'prompt': 'How do Source-Oriented D...   \n",
       " 4  [{'args': {'prompt': 'The three pillars of Dat...   \n",
       " 5  [{'args': {'prompt': 'What are tools used in ?...   \n",
       " \n",
       "                                   qs_relevance_calls latency  total_tokens  \\\n",
       " 0  [{'args': {'question': 'What is Data Product?'...      14             0   \n",
       " 1  [{'args': {'question': 'What is difference bet...      35             0   \n",
       " 2  [{'args': {'question': 'What is Data Mesh?', '...      21             0   \n",
       " 3  [{'args': {'question': 'How do Source-Oriented...      26             0   \n",
       " 4  [{'args': {'question': 'The three pillars of D...      42             0   \n",
       " 5  [{'args': {'question': 'What are tools used in...      42             0   \n",
       " \n",
       "    total_cost  \n",
       " 0         0.0  \n",
       " 1         0.0  \n",
       " 2         0.0  \n",
       " 3         0.0  \n",
       " 4         0.0  \n",
       " 5         0.0  \n",
       " \n",
       " [6 rows x 21 columns],\n",
       " ['qs_relevance', 'relevance', 'groundedness_measure_with_cot_reasons'])"
      ]
     },
     "execution_count": 238,
     "metadata": {},
     "output_type": "execute_result"
    }
   ],
   "source": [
    "tru.get_records_and_feedback(app_ids=[])"
   ]
  },
  {
   "cell_type": "code",
   "execution_count": 207,
   "metadata": {},
   "outputs": [
    {
     "data": {
      "text/html": [
       "<div>\n",
       "<style scoped>\n",
       "    .dataframe tbody tr th:only-of-type {\n",
       "        vertical-align: middle;\n",
       "    }\n",
       "\n",
       "    .dataframe tbody tr th {\n",
       "        vertical-align: top;\n",
       "    }\n",
       "\n",
       "    .dataframe thead th {\n",
       "        text-align: right;\n",
       "    }\n",
       "</style>\n",
       "<table border=\"1\" class=\"dataframe\">\n",
       "  <thead>\n",
       "    <tr style=\"text-align: right;\">\n",
       "      <th></th>\n",
       "      <th>qs_relevance</th>\n",
       "      <th>relevance</th>\n",
       "      <th>groundedness_measure_with_cot_reasons</th>\n",
       "      <th>latency</th>\n",
       "      <th>total_cost</th>\n",
       "    </tr>\n",
       "    <tr>\n",
       "      <th>app_id</th>\n",
       "      <th></th>\n",
       "      <th></th>\n",
       "      <th></th>\n",
       "      <th></th>\n",
       "      <th></th>\n",
       "    </tr>\n",
       "  </thead>\n",
       "  <tbody>\n",
       "    <tr>\n",
       "      <th>normal_rag</th>\n",
       "      <td>1.0</td>\n",
       "      <td>0.9</td>\n",
       "      <td>1.0</td>\n",
       "      <td>16.0</td>\n",
       "      <td>0.0</td>\n",
       "    </tr>\n",
       "  </tbody>\n",
       "</table>\n",
       "</div>"
      ],
      "text/plain": [
       "            qs_relevance  relevance  groundedness_measure_with_cot_reasons  \\\n",
       "app_id                                                                       \n",
       "normal_rag           1.0        0.9                                    1.0   \n",
       "\n",
       "            latency  total_cost  \n",
       "app_id                           \n",
       "normal_rag     16.0         0.0  "
      ]
     },
     "execution_count": 207,
     "metadata": {},
     "output_type": "execute_result"
    }
   ],
   "source": [
    "tru.get_leaderboard(app_ids=[])"
   ]
  },
  {
   "cell_type": "markdown",
   "metadata": {},
   "source": [
    "# Neo4j RAG (Parent Retriever)"
   ]
  },
  {
   "cell_type": "code",
   "execution_count": 208,
   "metadata": {},
   "outputs": [],
   "source": [
    "graph = Neo4jGraph(\n",
    "    url='bolt://localhost:7687',\n",
    "    username='neo4j',\n",
    "    password='password',\n",
    ")"
   ]
  },
  {
   "cell_type": "code",
   "execution_count": null,
   "metadata": {},
   "outputs": [],
   "source": [
    "# Ingestion of data in the neo4j graph\n",
    "from langchain.text_splitter import TokenTextSplitter\n",
    "from langchain.document_loaders import WikipediaLoader\n",
    "\n",
    "\n",
    "parent_splitter = TokenTextSplitter(chunk_size=1000, chunk_overlap=24)\n",
    "child_splitter = TokenTextSplitter(chunk_size=100, chunk_overlap=24)\n",
    "\n",
    "parent_documents = parent_splitter.split_documents(raw_documents)\n",
    "\n",
    "for d in parent_documents:\n",
    "    child_documents = child_splitter.split_documents([d])\n",
    "    parent_text = d.page_content\n",
    "    child_texts = [c.page_content for c in child_documents]\n",
    "\n",
    "    # Create parent node and child nodes with relationships\n",
    "    graph.query(\n",
    "        \"\"\"\n",
    "        UNWIND $children AS child\n",
    "        CREATE (p:Parent {text: $parent})\n",
    "        CREATE (c:Child {text: child})\n",
    "        CREATE (c)-[:HAS_PARENT]->(p)\n",
    "        \"\"\",\n",
    "        {\"parent\": parent_text, \"children\": child_texts}\n",
    "    )"
   ]
  },
  {
   "cell_type": "code",
   "execution_count": 209,
   "metadata": {},
   "outputs": [
    {
     "name": "stdout",
     "output_type": "stream",
     "text": [
      "bert_load_from_file: gguf version     = 2\n",
      "bert_load_from_file: gguf alignment   = 32\n",
      "bert_load_from_file: gguf data offset = 695552\n",
      "bert_load_from_file: model name           = BERT\n",
      "bert_load_from_file: model architecture   = bert\n",
      "bert_load_from_file: model file type      = 1\n",
      "bert_load_from_file: bert tokenizer vocab = 30522\n"
     ]
    }
   ],
   "source": [
    "from langchain.vectorstores.neo4j_vector import Neo4jVector\n",
    "\n",
    "retrieval_query = \"\"\"\n",
    "MATCH (node)-[:HAS_PARENT]->(parent)\n",
    "RETURN parent.text AS text, score, {} AS metadata\n",
    "\"\"\"\n",
    "\n",
    "from langchain.embeddings import (\n",
    "    OllamaEmbeddings,\n",
    "    SentenceTransformerEmbeddings,\n",
    "    BedrockEmbeddings,\n",
    ")\n",
    "\n",
    "vector_index = Neo4jVector.from_existing_graph(\n",
    "    GPT4AllEmbeddings(),\n",
    "    url='bolt://localhost:7687',\n",
    "    username='neo4j',\n",
    "    password='password',\n",
    "    index_name=\"new_index_name\",\n",
    "    node_label=\"Child\",\n",
    "    text_node_properties=[\"text\"],\n",
    "    embedding_node_property=\"embedding\",\n",
    "    retrieval_query=retrieval_query,\n",
    ")"
   ]
  },
  {
   "cell_type": "code",
   "execution_count": 210,
   "metadata": {},
   "outputs": [],
   "source": [
    "rag_neo4j_chain = (\n",
    "    {\"context\": retriever, \"question\": RunnablePassthrough()}\n",
    "    | QA_CHAIN_PROMPT\n",
    "    | ollama\n",
    "    | StrOutputParser()\n",
    ")"
   ]
  },
  {
   "cell_type": "code",
   "execution_count": 222,
   "metadata": {},
   "outputs": [],
   "source": [
    "tru_neo4j_recorder = TruChain(rag_neo4j_chain,\n",
    "    app_id='neo4j_parental_rag',\n",
    "    feedbacks=[f_groundedness,f_qa_relevance,f_context_relevance,f_groundtruth])"
   ]
  },
  {
   "cell_type": "code",
   "execution_count": 239,
   "metadata": {},
   "outputs": [
    {
     "name": "stderr",
     "output_type": "stream",
     "text": [
      "A new object of type <class 'langchain_core.vectorstores.VectorStoreRetriever'> at 0x2c74f45f0 is calling an instrumented method <function BaseRetriever.get_relevant_documents at 0x10bfa0400>. The path of this call may be incorrect.\n",
      "Guessing path of new object is app.first.steps.context.first based on other object (0x10fcb7570) using this function.\n",
      "A new object of type <class 'langchain_core.vectorstores.VectorStoreRetriever'> at 0x2c74f45f0 is calling an instrumented method <function VectorStoreRetriever._get_relevant_documents at 0x10d071080>. The path of this call may be incorrect.\n",
      "Guessing path of new object is app.first.steps.context.first based on other object (0x10fcb7570) using this function.\n",
      "App {app_id} was not present in database. Adding it.\n"
     ]
    },
    {
     "data": {
      "text/plain": [
       "'I don\\'t know the answer to the question \"What is Data Product?\" based on the provided context. The context only provides information on the differences between data assets and data products, but does not provide a clear definition or explanation of what a data product is. Therefore, I cannot provide an answer to this question without additional information or clarification.'"
      ]
     },
     "metadata": {},
     "output_type": "display_data"
    },
    {
     "name": "stderr",
     "output_type": "stream",
     "text": [
      "A new object of type <class 'langchain_core.vectorstores.VectorStoreRetriever'> at 0x2c74f45f0 is calling an instrumented method <function BaseRetriever.get_relevant_documents at 0x10bfa0400>. The path of this call may be incorrect.\n",
      "Guessing path of new object is app.first.steps.context.first based on other object (0x10fcb7570) using this function.\n",
      "A new object of type <class 'langchain_core.vectorstores.VectorStoreRetriever'> at 0x2c74f45f0 is calling an instrumented method <function VectorStoreRetriever._get_relevant_documents at 0x10d071080>. The path of this call may be incorrect.\n",
      "Guessing path of new object is app.first.steps.context.first based on other object (0x10fcb7570) using this function.\n"
     ]
    },
    {
     "data": {
      "text/plain": [
       "\"I'm not able to answer the question as there is no clear difference between Data Mesh and Data Fabric provided in the context. The documents focus on Data Mesh, its implementation, and the need for organizational change, product thinking, technology decisions, and harmonious evolution of these aspects to successfully implement Data Mesh. There is no direct comparison or contrast between Data Mesh and Data Fabric in the given context. Therefore, I cannot provide a definitive answer to your question.\""
      ]
     },
     "metadata": {},
     "output_type": "display_data"
    },
    {
     "name": "stderr",
     "output_type": "stream",
     "text": [
      "A new object of type <class 'langchain_core.vectorstores.VectorStoreRetriever'> at 0x2c74f45f0 is calling an instrumented method <function BaseRetriever.get_relevant_documents at 0x10bfa0400>. The path of this call may be incorrect.\n",
      "Guessing path of new object is app.first.steps.context.first based on other object (0x10fcb7570) using this function.\n",
      "A new object of type <class 'langchain_core.vectorstores.VectorStoreRetriever'> at 0x2c74f45f0 is calling an instrumented method <function VectorStoreRetriever._get_relevant_documents at 0x10d071080>. The path of this call may be incorrect.\n",
      "Guessing path of new object is app.first.steps.context.first based on other object (0x10fcb7570) using this function.\n"
     ]
    },
    {
     "data": {
      "text/plain": [
       "\"I don't know the answer to your question. The context you provided does not provide any information about what Data Mesh is, and I cannot make an educated guess based on the limited information provided.\""
      ]
     },
     "metadata": {},
     "output_type": "display_data"
    },
    {
     "name": "stderr",
     "output_type": "stream",
     "text": [
      "A new object of type <class 'langchain_core.vectorstores.VectorStoreRetriever'> at 0x2c74f45f0 is calling an instrumented method <function BaseRetriever.get_relevant_documents at 0x10bfa0400>. The path of this call may be incorrect.\n",
      "Guessing path of new object is app.first.steps.context.first based on other object (0x10fcb7570) using this function.\n",
      "A new object of type <class 'langchain_core.vectorstores.VectorStoreRetriever'> at 0x2c74f45f0 is calling an instrumented method <function VectorStoreRetriever._get_relevant_documents at 0x10d071080>. The path of this call may be incorrect.\n",
      "Guessing path of new object is app.first.steps.context.first based on other object (0x10fcb7570) using this function.\n",
      "openai request failed <class 'openai.RateLimitError'>=Error code: 429 - {'error': {'message': 'You exceeded your current quota, please check your plan and billing details. For more information on this error, read the docs: https://platform.openai.com/docs/guides/error-codes/api-errors.', 'type': 'insufficient_quota', 'param': None, 'code': 'insufficient_quota'}}. Retries remaining=3.\n",
      "openai request failed <class 'openai.RateLimitError'>=Error code: 429 - {'error': {'message': 'You exceeded your current quota, please check your plan and billing details. For more information on this error, read the docs: https://platform.openai.com/docs/guides/error-codes/api-errors.', 'type': 'insufficient_quota', 'param': None, 'code': 'insufficient_quota'}}. Retries remaining=2.\n",
      "openai request failed <class 'openai.RateLimitError'>=Error code: 429 - {'error': {'message': 'You exceeded your current quota, please check your plan and billing details. For more information on this error, read the docs: https://platform.openai.com/docs/guides/error-codes/api-errors.', 'type': 'insufficient_quota', 'param': None, 'code': 'insufficient_quota'}}. Retries remaining=1.\n"
     ]
    },
    {
     "data": {
      "text/plain": [
       "\"I don't know the answer to the question. The provided context does not provide enough information to differentiate between Source-Oriented Data Products (SODP) and Customer-Oriented Data Products (CODP).\""
      ]
     },
     "metadata": {},
     "output_type": "display_data"
    },
    {
     "name": "stderr",
     "output_type": "stream",
     "text": [
      "A new object of type <class 'langchain_core.vectorstores.VectorStoreRetriever'> at 0x2c74f45f0 is calling an instrumented method <function BaseRetriever.get_relevant_documents at 0x10bfa0400>. The path of this call may be incorrect.\n",
      "Guessing path of new object is app.first.steps.context.first based on other object (0x10fcb7570) using this function.\n",
      "A new object of type <class 'langchain_core.vectorstores.VectorStoreRetriever'> at 0x2c74f45f0 is calling an instrumented method <function VectorStoreRetriever._get_relevant_documents at 0x10d071080>. The path of this call may be incorrect.\n",
      "Guessing path of new object is app.first.steps.context.first based on other object (0x10fcb7570) using this function.\n",
      "openai request failed <class 'openai.RateLimitError'>=Error code: 429 - {'error': {'message': 'You exceeded your current quota, please check your plan and billing details. For more information on this error, read the docs: https://platform.openai.com/docs/guides/error-codes/api-errors.', 'type': 'insufficient_quota', 'param': None, 'code': 'insufficient_quota'}}. Retries remaining=0.\n",
      "Feedback Function exception caught: Traceback (most recent call last):\n",
      "  File \"/Users/samvardhan/miniforge3/envs/rag_qa/lib/python3.11/site-packages/trulens_eval/feedback/feedback.py\", line 501, in run\n",
      "    result_and_meta, part_cost = Endpoint.track_all_costs_tally(\n",
      "                                 ^^^^^^^^^^^^^^^^^^^^^^^^^^^^^^^\n",
      "  File \"/Users/samvardhan/miniforge3/envs/rag_qa/lib/python3.11/site-packages/trulens_eval/feedback/provider/endpoint/base.py\", line 462, in track_all_costs_tally\n",
      "    result, cbs = Endpoint.track_all_costs(\n",
      "                  ^^^^^^^^^^^^^^^^^^^^^^^^^\n",
      "  File \"/Users/samvardhan/miniforge3/envs/rag_qa/lib/python3.11/site-packages/trulens_eval/feedback/provider/endpoint/base.py\", line 411, in track_all_costs\n",
      "    return Endpoint._track_costs(thunk, with_endpoints=endpoints)\n",
      "           ^^^^^^^^^^^^^^^^^^^^^^^^^^^^^^^^^^^^^^^^^^^^^^^^^^^^^^\n",
      "  File \"/Users/samvardhan/miniforge3/envs/rag_qa/lib/python3.11/site-packages/trulens_eval/feedback/provider/endpoint/base.py\", line 568, in _track_costs\n",
      "    result: T = thunk()\n",
      "                ^^^^^^^\n",
      "  File \"/Users/samvardhan/miniforge3/envs/rag_qa/lib/python3.11/site-packages/trulens_eval/feedback/feedback.py\", line 502, in <lambda>\n",
      "    lambda: self.imp(**ins)\n",
      "            ^^^^^^^^^^^^^^^\n",
      "  File \"/Users/samvardhan/miniforge3/envs/rag_qa/lib/python3.11/site-packages/trulens_eval/feedback/groundtruth.py\", line 162, in agreement_measure\n",
      "    agreement_txt = self.provider._get_answer_agreement(\n",
      "                    ^^^^^^^^^^^^^^^^^^^^^^^^^^^^^^^^^^^^\n",
      "  File \"/Users/samvardhan/miniforge3/envs/rag_qa/lib/python3.11/site-packages/trulens_eval/feedback/provider/base.py\", line 977, in _get_answer_agreement\n",
      "    return self.endpoint.run_me(\n",
      "           ^^^^^^^^^^^^^^^^^^^^^\n",
      "  File \"/Users/samvardhan/miniforge3/envs/rag_qa/lib/python3.11/site-packages/trulens_eval/feedback/provider/endpoint/base.py\", line 265, in run_me\n",
      "    raise RuntimeError(\n",
      "RuntimeError: API openai request failed 4 time(s).\n",
      "\n",
      "During handling of the above exception, another exception occurred:\n",
      "\n",
      "Traceback (most recent call last):\n",
      "  File \"/Users/samvardhan/miniforge3/envs/rag_qa/lib/python3.11/site-packages/trulens_eval/feedback/feedback.py\", line 506, in run\n",
      "    raise RuntimeError(\n",
      "RuntimeError: Evaluation of agreement_measure failed on inputs: \n",
      "{'prompt': 'What is Data Mesh?',\n",
      " 'response': \"I don't know the answer to your question. The context you \"\n",
      "             'provide\n",
      "API openai request failed 4 time(s)..\n",
      "\n",
      "openai request failed <class 'openai.RateLimitError'>=Error code: 429 - {'error': {'message': 'You exceeded your current quota, please check your plan and billing details. For more information on this error, read the docs: https://platform.openai.com/docs/guides/error-codes/api-errors.', 'type': 'insufficient_quota', 'param': None, 'code': 'insufficient_quota'}}. Retries remaining=3.\n",
      "openai request failed <class 'openai.RateLimitError'>=Error code: 429 - {'error': {'message': 'You exceeded your current quota, please check your plan and billing details. For more information on this error, read the docs: https://platform.openai.com/docs/guides/error-codes/api-errors.', 'type': 'insufficient_quota', 'param': None, 'code': 'insufficient_quota'}}. Retries remaining=2.\n",
      "openai request failed <class 'openai.RateLimitError'>=Error code: 429 - {'error': {'message': 'You exceeded your current quota, please check your plan and billing details. For more information on this error, read the docs: https://platform.openai.com/docs/guides/error-codes/api-errors.', 'type': 'insufficient_quota', 'param': None, 'code': 'insufficient_quota'}}. Retries remaining=1.\n",
      "openai request failed <class 'openai.RateLimitError'>=Error code: 429 - {'error': {'message': 'You exceeded your current quota, please check your plan and billing details. For more information on this error, read the docs: https://platform.openai.com/docs/guides/error-codes/api-errors.', 'type': 'insufficient_quota', 'param': None, 'code': 'insufficient_quota'}}. Retries remaining=0.\n",
      "Feedback Function exception caught: Traceback (most recent call last):\n",
      "  File \"/Users/samvardhan/miniforge3/envs/rag_qa/lib/python3.11/site-packages/trulens_eval/feedback/feedback.py\", line 501, in run\n",
      "    result_and_meta, part_cost = Endpoint.track_all_costs_tally(\n",
      "                                 ^^^^^^^^^^^^^^^^^^^^^^^^^^^^^^^\n",
      "  File \"/Users/samvardhan/miniforge3/envs/rag_qa/lib/python3.11/site-packages/trulens_eval/feedback/provider/endpoint/base.py\", line 462, in track_all_costs_tally\n",
      "    result, cbs = Endpoint.track_all_costs(\n",
      "                  ^^^^^^^^^^^^^^^^^^^^^^^^^\n",
      "  File \"/Users/samvardhan/miniforge3/envs/rag_qa/lib/python3.11/site-packages/trulens_eval/feedback/provider/endpoint/base.py\", line 411, in track_all_costs\n",
      "    return Endpoint._track_costs(thunk, with_endpoints=endpoints)\n",
      "           ^^^^^^^^^^^^^^^^^^^^^^^^^^^^^^^^^^^^^^^^^^^^^^^^^^^^^^\n",
      "  File \"/Users/samvardhan/miniforge3/envs/rag_qa/lib/python3.11/site-packages/trulens_eval/feedback/provider/endpoint/base.py\", line 568, in _track_costs\n",
      "    result: T = thunk()\n",
      "                ^^^^^^^\n",
      "  File \"/Users/samvardhan/miniforge3/envs/rag_qa/lib/python3.11/site-packages/trulens_eval/feedback/feedback.py\", line 502, in <lambda>\n",
      "    lambda: self.imp(**ins)\n",
      "            ^^^^^^^^^^^^^^^\n",
      "  File \"/Users/samvardhan/miniforge3/envs/rag_qa/lib/python3.11/site-packages/trulens_eval/feedback/groundtruth.py\", line 162, in agreement_measure\n",
      "    agreement_txt = self.provider._get_answer_agreement(\n",
      "                    ^^^^^^^^^^^^^^^^^^^^^^^^^^^^^^^^^^^^\n",
      "  File \"/Users/samvardhan/miniforge3/envs/rag_qa/lib/python3.11/site-packages/trulens_eval/feedback/provider/base.py\", line 977, in _get_answer_agreement\n",
      "    return self.endpoint.run_me(\n",
      "           ^^^^^^^^^^^^^^^^^^^^^\n",
      "  File \"/Users/samvardhan/miniforge3/envs/rag_qa/lib/python3.11/site-packages/trulens_eval/feedback/provider/endpoint/base.py\", line 265, in run_me\n",
      "    raise RuntimeError(\n",
      "RuntimeError: API openai request failed 4 time(s).\n",
      "\n",
      "During handling of the above exception, another exception occurred:\n",
      "\n",
      "Traceback (most recent call last):\n",
      "  File \"/Users/samvardhan/miniforge3/envs/rag_qa/lib/python3.11/site-packages/trulens_eval/feedback/feedback.py\", line 506, in run\n",
      "    raise RuntimeError(\n",
      "RuntimeError: Evaluation of agreement_measure failed on inputs: \n",
      "{'prompt': 'How do Source-Oriented Data Products (SODP) differ from '\n",
      "           'Customer-Oriented Data Products (CODP)?',\n",
      " 're\n",
      "API openai request failed 4 time(s)..\n",
      "\n"
     ]
    },
    {
     "data": {
      "text/plain": [
       "'Based on the provided context, the three pillars of Data Mesh success are:\\n\\n1. Empowering domains: This refers to the ability of Data Mesh to give control and access to data to different business domains, enabling them to make informed decisions and take actions based on data insights.\\n2. Improving data utilization: Data Mesh aims to improve data utilization by providing a unified view of data across different systems and sources, making it easier for organizations to leverage data for various purposes such as analysis, reporting, and decision-making.\\n3. Supporting future growth: By providing a scalable and flexible architecture, Data Mesh enables organizations to adapt to changing business needs and accommodate new technologies and systems, ensuring long-term success and growth.'"
      ]
     },
     "metadata": {},
     "output_type": "display_data"
    },
    {
     "name": "stderr",
     "output_type": "stream",
     "text": [
      "A new object of type <class 'langchain_core.vectorstores.VectorStoreRetriever'> at 0x2c74f45f0 is calling an instrumented method <function BaseRetriever.get_relevant_documents at 0x10bfa0400>. The path of this call may be incorrect.\n",
      "Guessing path of new object is app.first.steps.context.first based on other object (0x10fcb7570) using this function.\n",
      "A new object of type <class 'langchain_core.vectorstores.VectorStoreRetriever'> at 0x2c74f45f0 is calling an instrumented method <function VectorStoreRetriever._get_relevant_documents at 0x10d071080>. The path of this call may be incorrect.\n",
      "Guessing path of new object is app.first.steps.context.first based on other object (0x10fcb7570) using this function.\n"
     ]
    },
    {
     "data": {
      "text/plain": [
       "'Based on the provided context, the tools used in Data Mesh are:\\n\\n1. DBT (Data Build Tool) - for data transformation and data quality testing.\\n2. JDBC (Java Database Connectivity) - as the standard input and output ports to support addressability.\\n3. Collibra - for cataloging product meta data.\\n4. Monte Carlo - for monitoring.\\n5. Snowflake - for defining roles and mapping users to appropriate roles to grant appropriate privileges to users.\\n6. Immuta - to define policy as code.\\n7. DataOps.live - as the CI/CD pipeline.\\n8. Code - for ingestion, transformation, and publishing to output ports.\\n9. Sample data - for unit tests and data quality tests.\\n10. Infrastructure as code - to provision data pipelines, CI/CD pipelines, and other platform capabilities like storage, compute, monitoring configuration etc.\\n11. Access policies as code - that specify who can access the data products and how.'"
      ]
     },
     "metadata": {},
     "output_type": "display_data"
    }
   ],
   "source": [
    "with tru_neo4j_recorder as recording:\n",
    "    for prompt in prompts:\n",
    "        llm_response = rag_neo4j_chain.invoke(prompt)\n",
    "        display(llm_response)"
   ]
  },
  {
   "cell_type": "code",
   "execution_count": 228,
   "metadata": {},
   "outputs": [
    {
     "data": {
      "text/html": [
       "<div>\n",
       "<style scoped>\n",
       "    .dataframe tbody tr th:only-of-type {\n",
       "        vertical-align: middle;\n",
       "    }\n",
       "\n",
       "    .dataframe tbody tr th {\n",
       "        vertical-align: top;\n",
       "    }\n",
       "\n",
       "    .dataframe thead th {\n",
       "        text-align: right;\n",
       "    }\n",
       "</style>\n",
       "<table border=\"1\" class=\"dataframe\">\n",
       "  <thead>\n",
       "    <tr style=\"text-align: right;\">\n",
       "      <th></th>\n",
       "      <th>app_id</th>\n",
       "      <th>app_json</th>\n",
       "      <th>type</th>\n",
       "      <th>record_id</th>\n",
       "      <th>input</th>\n",
       "      <th>output</th>\n",
       "      <th>tags</th>\n",
       "      <th>record_json</th>\n",
       "      <th>cost_json</th>\n",
       "      <th>perf_json</th>\n",
       "      <th>ts</th>\n",
       "      <th>latency</th>\n",
       "      <th>total_tokens</th>\n",
       "      <th>total_cost</th>\n",
       "    </tr>\n",
       "  </thead>\n",
       "  <tbody>\n",
       "  </tbody>\n",
       "</table>\n",
       "</div>"
      ],
      "text/plain": [
       "Empty DataFrame\n",
       "Columns: [app_id, app_json, type, record_id, input, output, tags, record_json, cost_json, perf_json, ts, latency, total_tokens, total_cost]\n",
       "Index: []"
      ]
     },
     "execution_count": 228,
     "metadata": {},
     "output_type": "execute_result"
    }
   ],
   "source": [
    "tru.get_records_and_feedback(app_ids=[])[0]"
   ]
  },
  {
   "cell_type": "code",
   "execution_count": 240,
   "metadata": {},
   "outputs": [
    {
     "data": {
      "text/html": [
       "<div>\n",
       "<style scoped>\n",
       "    .dataframe tbody tr th:only-of-type {\n",
       "        vertical-align: middle;\n",
       "    }\n",
       "\n",
       "    .dataframe tbody tr th {\n",
       "        vertical-align: top;\n",
       "    }\n",
       "\n",
       "    .dataframe thead th {\n",
       "        text-align: right;\n",
       "    }\n",
       "</style>\n",
       "<table border=\"1\" class=\"dataframe\">\n",
       "  <thead>\n",
       "    <tr style=\"text-align: right;\">\n",
       "      <th></th>\n",
       "      <th>qs_relevance</th>\n",
       "      <th>relevance</th>\n",
       "      <th>groundedness_measure_with_cot_reasons</th>\n",
       "      <th>latency</th>\n",
       "      <th>total_cost</th>\n",
       "    </tr>\n",
       "    <tr>\n",
       "      <th>app_id</th>\n",
       "      <th></th>\n",
       "      <th></th>\n",
       "      <th></th>\n",
       "      <th></th>\n",
       "      <th></th>\n",
       "    </tr>\n",
       "  </thead>\n",
       "  <tbody>\n",
       "    <tr>\n",
       "      <th>neo4j_parental_rag</th>\n",
       "      <td>0.966667</td>\n",
       "      <td>0.35</td>\n",
       "      <td>0.458333</td>\n",
       "      <td>30.0</td>\n",
       "      <td>0.0</td>\n",
       "    </tr>\n",
       "    <tr>\n",
       "      <th>normal_rag</th>\n",
       "      <td>0.883333</td>\n",
       "      <td>0.60</td>\n",
       "      <td>0.650000</td>\n",
       "      <td>30.0</td>\n",
       "      <td>0.0</td>\n",
       "    </tr>\n",
       "  </tbody>\n",
       "</table>\n",
       "</div>"
      ],
      "text/plain": [
       "                    qs_relevance  relevance  \\\n",
       "app_id                                        \n",
       "neo4j_parental_rag      0.966667       0.35   \n",
       "normal_rag              0.883333       0.60   \n",
       "\n",
       "                    groundedness_measure_with_cot_reasons  latency  total_cost  \n",
       "app_id                                                                          \n",
       "neo4j_parental_rag                               0.458333     30.0         0.0  \n",
       "normal_rag                                       0.650000     30.0         0.0  "
      ]
     },
     "execution_count": 240,
     "metadata": {},
     "output_type": "execute_result"
    }
   ],
   "source": [
    "tru.get_leaderboard(app_ids=[])"
   ]
  },
  {
   "cell_type": "code",
   "execution_count": 70,
   "metadata": {},
   "outputs": [
    {
     "name": "stdout",
     "output_type": "stream",
     "text": [
      "Starting dashboard ...\n",
      "Config file already exists. Skipping writing process.\n",
      "Credentials file already exists. Skipping writing process.\n",
      "Dashboard already running at path:   Network URL: http://192.168.1.2:8501\n",
      "\n"
     ]
    },
    {
     "data": {
      "text/plain": [
       "<Popen: returncode: None args: ['streamlit', 'run', '--server.headless=True'...>"
      ]
     },
     "execution_count": 70,
     "metadata": {},
     "output_type": "execute_result"
    }
   ],
   "source": [
    "tru.start_dashboard()"
   ]
  },
  {
   "cell_type": "code",
   "execution_count": 119,
   "metadata": {},
   "outputs": [
    {
     "name": "stdout",
     "output_type": "stream",
     "text": [
      "Starting dashboard ...\n",
      "Config file already exists. Skipping writing process.\n",
      "Credentials file already exists. Skipping writing process.\n"
     ]
    },
    {
     "data": {
      "application/vnd.jupyter.widget-view+json": {
       "model_id": "d433ff1a24864dd4996719b352a81d4e",
       "version_major": 2,
       "version_minor": 0
      },
      "text/plain": [
       "Accordion(children=(VBox(children=(VBox(children=(Label(value='STDOUT'), Output())), VBox(children=(Label(valu…"
      ]
     },
     "metadata": {},
     "output_type": "display_data"
    },
    {
     "name": "stdout",
     "output_type": "stream",
     "text": [
      "Dashboard started at http://192.168.1.2:8501 .\n"
     ]
    },
    {
     "data": {
      "text/plain": [
       "<Popen: returncode: None args: ['streamlit', 'run', '--server.headless=True'...>"
      ]
     },
     "execution_count": 119,
     "metadata": {},
     "output_type": "execute_result"
    }
   ],
   "source": [
    "tru.start_dashboard()"
   ]
  },
  {
   "cell_type": "code",
   "execution_count": 233,
   "metadata": {},
   "outputs": [],
   "source": [
    "tru.reset_database()"
   ]
  }
 ],
 "metadata": {
  "kernelspec": {
   "display_name": "neo4j_llm",
   "language": "python",
   "name": "python3"
  },
  "language_info": {
   "codemirror_mode": {
    "name": "ipython",
    "version": 3
   },
   "file_extension": ".py",
   "mimetype": "text/x-python",
   "name": "python",
   "nbconvert_exporter": "python",
   "pygments_lexer": "ipython3",
   "version": "3.11.7"
  }
 },
 "nbformat": 4,
 "nbformat_minor": 2
}
