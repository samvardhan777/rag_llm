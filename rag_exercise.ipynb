{
 "cells": [
  {
   "cell_type": "code",
   "execution_count": 32,
   "metadata": {},
   "outputs": [],
   "source": [
    "from pathlib import Path\n",
    "from typing import List\n",
    "from langchain.chat_models import ChatOpenAI\n",
    "from langchain.document_loaders import TextLoader\n",
    "from langchain.graphs import Neo4jGraph\n",
    "from langchain.prompts import ChatPromptTemplate\n",
    "from langchain.text_splitter import TokenTextSplitter\n",
    "from langchain_core.pydantic_v1 import BaseModel, Field\n",
    "import os\n",
    "import time\n",
    "from langchain.llms import Ollama \n",
    "from langchain.document_loaders import WebBaseLoader, TextLoader\n",
    "from langchain.text_splitter import RecursiveCharacterTextSplitter\n",
    "from langchain.embeddings import GPT4AllEmbeddings \n",
    "from langchain.vectorstores import Chroma\n",
    "from langchain.chains import RetrievalQA\n",
    "import bs4\n",
    "from langchain import hub\n",
    "from langchain.text_splitter import RecursiveCharacterTextSplitter\n",
    "from langchain_community.chat_models import ChatOpenAI\n",
    "from langchain_community.document_loaders import WebBaseLoader\n",
    "from langchain_community.vectorstores import Chroma\n",
    "from langchain_core.output_parsers import StrOutputParser\n",
    "from langchain_core.runnables import RunnablePassthrough"
   ]
  },
  {
   "cell_type": "code",
   "execution_count": 33,
   "metadata": {},
   "outputs": [],
   "source": [
    "ollama = Ollama(base_url='http://localhost:11434', model='llama2')"
   ]
  },
  {
   "cell_type": "code",
   "execution_count": 34,
   "metadata": {},
   "outputs": [],
   "source": [
    "loader = WebBaseLoader(\n",
    "    web_paths=([\"https://www.thoughtworks.com/en-de/insights/articles/data-mesh-in-practice-technology-and-the-architecture\", \n",
    "               \"https://www.thoughtworks.com/en-de/insights/articles/data-mesh-in-practice-product-thinking-and-development\",\n",
    "               \"https://www.thoughtworks.com/en-in/insights/blog/data-strategy/dev-experience-data-mesh-product\",\n",
    "               \"https://www.thoughtworks.com/en-in/insights/blog/data-strategy/dev-experience-data-mesh-platform\"])\n",
    "    )\n"
   ]
  },
  {
   "cell_type": "code",
   "execution_count": 35,
   "metadata": {},
   "outputs": [
    {
     "name": "stderr",
     "output_type": "stream",
     "text": [
      "Fetching pages: 100%|##########| 4/4 [00:00<00:00, 24.97it/s]\n"
     ]
    }
   ],
   "source": [
    "import nest_asyncio\n",
    "nest_asyncio.apply()\n",
    "loader.requests_per_second = 1\n",
    "raw_documents = loader.aload()"
   ]
  },
  {
   "cell_type": "markdown",
   "metadata": {},
   "source": [
    "# Normal RAG"
   ]
  },
  {
   "cell_type": "code",
   "execution_count": 36,
   "metadata": {},
   "outputs": [
    {
     "name": "stdout",
     "output_type": "stream",
     "text": [
      "bert_load_from_file: gguf version     = 2\n",
      "bert_load_from_file: gguf alignment   = 32\n",
      "bert_load_from_file: gguf data offset = 695552\n",
      "bert_load_from_file: model name           = BERT\n",
      "bert_load_from_file: model architecture   = bert\n",
      "bert_load_from_file: model file type      = 1\n",
      "bert_load_from_file: bert tokenizer vocab = 30522\n"
     ]
    }
   ],
   "source": [
    "text_splitter = RecursiveCharacterTextSplitter(chunk_size=500, chunk_overlap=20)\n",
    "all_splits = text_splitter.split_documents(raw_documents)\n",
    "vectorstore = Chroma.from_documents(documents=all_splits, embedding=GPT4AllEmbeddings())"
   ]
  },
  {
   "cell_type": "code",
   "execution_count": 37,
   "metadata": {},
   "outputs": [],
   "source": [
    "from langchain.prompts import PromptTemplate\n",
    "QA_CHAIN_PROMPT = PromptTemplate.from_template(\"\"\"Use the following pieces of context to answer the question at the end. \n",
    "If you don't know the answer, just say that you don't know, don't try to make up an answer.  \n",
    "\n",
    "RULES:                                               \n",
    "DO NOT INCLUDE THE INFORMATION IN YOUR ANSWER.\n",
    "\n",
    "CONTEXT: \n",
    "{context}\n",
    "\n",
    "Question:\n",
    "{question}\n",
    "\n",
    "\"\"\")"
   ]
  },
  {
   "cell_type": "code",
   "execution_count": 38,
   "metadata": {},
   "outputs": [],
   "source": [
    "retriever = vectorstore.as_retriever()\n",
    "def format_docs(docs):\n",
    "    return \"\\n\\n\".join(doc.page_content for doc in docs)"
   ]
  },
  {
   "cell_type": "code",
   "execution_count": 39,
   "metadata": {},
   "outputs": [],
   "source": [
    "rag_chain = (\n",
    "    {\"context\": retriever | format_docs, \"question\": RunnablePassthrough()}\n",
    "    | QA_CHAIN_PROMPT\n",
    "    | ollama\n",
    "    | StrOutputParser()\n",
    ")"
   ]
  },
  {
   "cell_type": "code",
   "execution_count": 40,
   "metadata": {},
   "outputs": [],
   "source": [
    "prompts = [\n",
    "    \"What is Data Product?\",\n",
    "    \"What is difference between Data Mesh and Data Fabric\",\n",
    "    \"What is Data Mesh?\",\n",
    "    \"How do Source-Oriented Data Products (SODP) differ from Customer-Oriented Data Products (CODP)?\",\n",
    "    \"The three pillars of Data Mesh success?\",\n",
    "    \"What are tools used in ?\"\n",
    "]"
   ]
  },
  {
   "cell_type": "code",
   "execution_count": 41,
   "metadata": {},
   "outputs": [],
   "source": [
    "from IPython.display import JSON\n",
    "from trulens_eval import TruChain, Feedback,Tru\n",
    "tru = Tru()"
   ]
  },
  {
   "cell_type": "code",
   "execution_count": 42,
   "metadata": {},
   "outputs": [],
   "source": [
    "from trulens_eval import LiteLLM\n",
    "import litellm\n",
    "litellm.set_verbose=False\n",
    "ollama_provider = LiteLLM(model_engine=\"ollama/llama2\", api_base='http://localhost:11434')"
   ]
  },
  {
   "cell_type": "code",
   "execution_count": 43,
   "metadata": {},
   "outputs": [
    {
     "name": "stdout",
     "output_type": "stream",
     "text": [
      "✅ In groundedness_measure_with_cot_reasons, input source will be set to __record__.app.first.steps.context.first.get_relevant_documents.rets.collect() .\n",
      "✅ In groundedness_measure_with_cot_reasons, input statement will be set to __record__.main_output or `Select.RecordOutput` .\n",
      "✅ In relevance, input prompt will be set to __record__.main_input or `Select.RecordInput` .\n",
      "✅ In relevance, input response will be set to __record__.main_output or `Select.RecordOutput` .\n",
      "✅ In qs_relevance, input question will be set to __record__.main_input or `Select.RecordInput` .\n",
      "✅ In qs_relevance, input statement will be set to __record__.app.first.steps.context.first.get_relevant_documents.rets .\n"
     ]
    }
   ],
   "source": [
    "from trulens_eval import Feedback, Select,feedback\n",
    "from trulens_eval.feedback import Groundedness\n",
    "from trulens_eval.app import App\n",
    "import numpy as np\n",
    "\n",
    "context = App.select_context(rag_chain)\n",
    "\n",
    "grounded = Groundedness(ollama_provider)\n",
    "\n",
    "f_groundedness = (\n",
    "    Feedback(grounded.groundedness_measure_with_cot_reasons)\n",
    "    .on(context.collect()) # collect context chunks into a list\n",
    "    .on_output()\n",
    "    .aggregate(grounded.grounded_statements_aggregator)\n",
    ")\n",
    "\n",
    "f_qa_relevance = Feedback(ollama_provider.relevance).on_input_output()\n",
    "\n",
    "f_context_relevance = (\n",
    "    Feedback(ollama_provider.qs_relevance).on_input().on(context).aggregate(np.mean)\n",
    ")"
   ]
  },
  {
   "cell_type": "code",
   "execution_count": 44,
   "metadata": {},
   "outputs": [
    {
     "name": "stdout",
     "output_type": "stream",
     "text": [
      "✅ In Ground Truth Agreement, input prompt will be set to __record__.main_input or `Select.RecordInput` .\n",
      "✅ In Ground Truth Agreement, input response will be set to __record__.main_output or `Select.RecordOutput` .\n"
     ]
    }
   ],
   "source": [
    "from trulens_eval.feedback.groundtruth import GroundTruthAgreement\n",
    "answer_relevance_golden_set = [\n",
    "    {\n",
    "        \"query\": \"What are the considerations to design the right data product?\",\n",
    "        \"response\": \"Key considerations in designing the right data products are its fulfillment to the use case for a given domain, along with compliance to slo and slis, support for output ports based on persona, metadata for discoverability and access and quality aspects to deliver trust.\",\n",
    "        \"expected_score\": 1\n",
    "    }, \n",
    "    {\n",
    "        \"query\": \"what are tools used in?\",\n",
    "        \"response\":\"Snowflake,Talend,DBT,Collibra,Monte Carlo,Dataops.live,SOLE,OAM Client libraries\",\n",
    "        \"expected_score\": 1\n",
    "    },\n",
    "    {\n",
    "        \"query\": \"According to Zhamak Dehghani's principles, effective data products in a Data Mesh architecture should possess several key qualities. Which of the following options correctly lists these qualities?\",\n",
    "        \"response\":\"Discoverable, Addressable, Trustworthy, Self-Describing, Interoperable, and Secure\",\n",
    "        \"expected_score\": 0.7\n",
    "    },\n",
    "    {\n",
    "        \"query\": \"The three pillars of Data Mesh success\",\n",
    "        \"response\":\"Organizational change,product thinking, and technology\",\n",
    "        \"expected_score\": 0.7\n",
    "    },\n",
    "    {\n",
    "        \"query\": \"What is Data Mesh?\",\n",
    "        \"response\":\"A decentralized approach to data architecture and organizational design\",\n",
    "        \"expected_score\": 0.8\n",
    "    },\n",
    "    {\n",
    "        \"query\": \"How do Source-Oriented Data Products (SODP) differ from Customer-Oriented Data Products (CODP)?\",\n",
    "        \"response\":\"SODPs are designed based on internal operational data sources, while CODPs are created to meet specific external customer needs.\",\n",
    "        \"expected_score\": 0.6\n",
    "    }\n",
    "    ]\n",
    "\n",
    "\n",
    "ground_truth = GroundTruthAgreement(answer_relevance_golden_set, provider = ollama_provider)\n",
    "\n",
    "f_groundtruth = Feedback(ground_truth.agreement_measure,\n",
    "                          name = \"Ground Truth Agreement\").on_input_output()"
   ]
  },
  {
   "cell_type": "code",
   "execution_count": 45,
   "metadata": {},
   "outputs": [],
   "source": [
    "tru_recorder = TruChain(rag_chain,\n",
    "    app_id='normal_rag',\n",
    "    feedbacks=[f_groundedness,f_qa_relevance,f_context_relevance,f_groundtruth])"
   ]
  },
  {
   "cell_type": "code",
   "execution_count": 46,
   "metadata": {},
   "outputs": [
    {
     "data": {
      "text/plain": [
       "'Thank you for providing the context. Based on the information provided, a data product is a specific type of data entity that is created to serve a user-driven goal and is subject to clearly defined Service Level Objectives (SLOs). Data products are owned by a single domain or stakeholder and maintained by a single data product team, who are responsible for their upkeep.\\n\\nIn contrast, a data asset can be any entity that is composed of data, such as databases or application output files. Data assets do not have the same level of specificity or definition as data products in terms of their purpose or ownership.\\n\\nTherefore, the main difference between a data product and a data asset is that a data product is a specifically defined and maintained collection of data that serves a user-driven goal, while a data asset is any collection of data without a specific purpose or ownership.'"
      ]
     },
     "metadata": {},
     "output_type": "display_data"
    },
    {
     "data": {
      "text/plain": [
       "\" Thank you for providing the context. Based on the information provided, I can confidently say that I don't know the difference between Data Mesh and Data Fabric. The context does not provide enough information to distinguish between the two terms or their meanings. Therefore, I cannot answer your question.\""
      ]
     },
     "metadata": {},
     "output_type": "display_data"
    },
    {
     "data": {
      "text/plain": [
       "\"I don't know the answer to your question. The context provided does not reveal what Data Mesh is, and it seems that the author of the article is intentionally avoiding providing a direct answer. The article only discusses the key practices and principles of successful Data Mesh implementations, but does not define or explain what Data Mesh is. Therefore, I cannot provide a definitive answer to your question.\""
      ]
     },
     "metadata": {},
     "output_type": "display_data"
    },
    {
     "data": {
      "text/plain": [
       "\"I don't know the answer to your question. According to the provided context, a data product is defined as something created to serve a specific user-driven goal as identified in a Lean Value Tree, subject to clearly defined Service Level Objectives (SLOs), owned by a single domain or stakeholder, and maintained by a single data product team. However, the context does not provide any information about Source-Oriented Data Products (SODP) or Customer-Oriented Data Products (CODP), which are the subjects of your question. Therefore, I cannot provide an answer.\""
      ]
     },
     "metadata": {},
     "output_type": "display_data"
    },
    {
     "data": {
      "text/plain": [
       "\"Based on the context provided, the three pillars of Data Mesh success are:\\n\\n1. Empowering domains: This refers to the ability to give control and ownership of data to different business units or departments within an organization, allowing them to make decisions based on their specific needs and goals.\\n2. Improving data utilization: This involves maximizing the value derived from data by ensuring it is accurate, complete, and accessible to those who need it.\\n3. Supporting future growth: Data Mesh should be designed to accommodate the organization's future growth and evolving data needs, allowing for flexibility and scalability in the long term.\""
      ]
     },
     "metadata": {},
     "output_type": "display_data"
    },
    {
     "data": {
      "text/plain": [
       "'Based on the context provided, the tools used in DataOps.live are:\\n\\n1. DBT - used for data transformation and data quality testing.\\n2. JDBC - standard input and output ports to support addressability.\\n3. Collibra - used for cataloging product meta data.\\n4. Monte Carlo - used for monitoring.\\n5. Snowflake - roles are defined on this platform, and users are mapped to appropriate roles to grant appropriate privileges to users.\\n6. Immuta - used to define policy as code.\\n7. DataOps.live - the CI/CD pipeline.\\n\\nTherefore, the answer to the question is:\\nTools used in DataOps.live: DBT, JDBC, Collibra, Monte Carlo, Snowflake, and Immuta.'"
      ]
     },
     "metadata": {},
     "output_type": "display_data"
    }
   ],
   "source": [
    "with tru_recorder as recording:\n",
    "    for prompt in prompts:\n",
    "        llm_response = rag_chain.invoke(prompt)\n",
    "        display(llm_response)"
   ]
  },
  {
   "cell_type": "code",
   "execution_count": 47,
   "metadata": {},
   "outputs": [
    {
     "data": {
      "text/plain": [
       "(       app_id                                           app_json  \\\n",
       " 0  normal_rag  {\"tru_class_info\": {\"name\": \"TruChain\", \"modul...   \n",
       " 1  normal_rag  {\"tru_class_info\": {\"name\": \"TruChain\", \"modul...   \n",
       " 2  normal_rag  {\"tru_class_info\": {\"name\": \"TruChain\", \"modul...   \n",
       " 3  normal_rag  {\"tru_class_info\": {\"name\": \"TruChain\", \"modul...   \n",
       " 4  normal_rag  {\"tru_class_info\": {\"name\": \"TruChain\", \"modul...   \n",
       " 5  normal_rag  {\"tru_class_info\": {\"name\": \"TruChain\", \"modul...   \n",
       " \n",
       "                                               type  \\\n",
       " 0  RunnableSequence(langchain_core.runnables.base)   \n",
       " 1  RunnableSequence(langchain_core.runnables.base)   \n",
       " 2  RunnableSequence(langchain_core.runnables.base)   \n",
       " 3  RunnableSequence(langchain_core.runnables.base)   \n",
       " 4  RunnableSequence(langchain_core.runnables.base)   \n",
       " 5  RunnableSequence(langchain_core.runnables.base)   \n",
       " \n",
       "                                       record_id  \\\n",
       " 0  record_hash_d3c45489651619dba74853273625fc2b   \n",
       " 1  record_hash_dc0bd44ca90e536c856d2753a07754bd   \n",
       " 2  record_hash_e33442bdee31839b3a4826ad19a3203c   \n",
       " 3  record_hash_c5cfbb0cef74eb801dde07341f291a92   \n",
       " 4  record_hash_287db50bcddd41703329ae07aba12ce1   \n",
       " 5  record_hash_161c4b38b99cfa03fbc9bada88996348   \n",
       " \n",
       "                                                input  \\\n",
       " 0                            \"What is Data Product?\"   \n",
       " 1  \"What is difference between Data Mesh and Data...   \n",
       " 2                               \"What is Data Mesh?\"   \n",
       " 3  \"How do Source-Oriented Data Products (SODP) d...   \n",
       " 4          \"The three pillars of Data Mesh success?\"   \n",
       " 5                         \"What are tools used in ?\"   \n",
       " \n",
       "                                               output tags  \\\n",
       " 0  \"Thank you for providing the context. Based on...    -   \n",
       " 1  \" Thank you for providing the context. Based o...    -   \n",
       " 2  \"I don't know the answer to your question. The...    -   \n",
       " 3  \"I don't know the answer to your question. Acc...    -   \n",
       " 4  \"Based on the context provided, the three pill...    -   \n",
       " 5  \"Based on the context provided, the tools used...    -   \n",
       " \n",
       "                                          record_json  \\\n",
       " 0  {\"record_id\": \"record_hash_d3c45489651619dba74...   \n",
       " 1  {\"record_id\": \"record_hash_dc0bd44ca90e536c856...   \n",
       " 2  {\"record_id\": \"record_hash_e33442bdee31839b3a4...   \n",
       " 3  {\"record_id\": \"record_hash_c5cfbb0cef74eb801dd...   \n",
       " 4  {\"record_id\": \"record_hash_287db50bcddd4170332...   \n",
       " 5  {\"record_id\": \"record_hash_161c4b38b99cfa03fbc...   \n",
       " \n",
       "                                            cost_json  \\\n",
       " 0  {\"n_requests\": 0, \"n_successful_requests\": 0, ...   \n",
       " 1  {\"n_requests\": 0, \"n_successful_requests\": 0, ...   \n",
       " 2  {\"n_requests\": 0, \"n_successful_requests\": 0, ...   \n",
       " 3  {\"n_requests\": 0, \"n_successful_requests\": 0, ...   \n",
       " 4  {\"n_requests\": 0, \"n_successful_requests\": 0, ...   \n",
       " 5  {\"n_requests\": 0, \"n_successful_requests\": 0, ...   \n",
       " \n",
       "                                            perf_json  ... relevance  \\\n",
       " 0  {\"start_time\": \"2024-01-16T20:19:26.065579\", \"...  ...       1.0   \n",
       " 1  {\"start_time\": \"2024-01-16T20:19:40.337269\", \"...  ...       0.0   \n",
       " 2  {\"start_time\": \"2024-01-16T20:20:16.734483\", \"...  ...       1.0   \n",
       " 3  {\"start_time\": \"2024-01-16T20:20:46.631076\", \"...  ...       1.0   \n",
       " 4  {\"start_time\": \"2024-01-16T20:21:30.075655\", \"...  ...       1.0   \n",
       " 5  {\"start_time\": \"2024-01-16T20:22:08.272846\", \"...  ...       0.7   \n",
       " \n",
       "    qs_relevance                       Ground Truth Agreement_calls  \\\n",
       " 0           1.0  [{'args': {'prompt': 'What is Data Product?', ...   \n",
       " 1           1.0  [{'args': {'prompt': 'What is difference betwe...   \n",
       " 2           0.6  [{'args': {'prompt': 'What is Data Mesh?', 're...   \n",
       " 3           1.0  [{'args': {'prompt': 'How do Source-Oriented D...   \n",
       " 4           1.0  [{'args': {'prompt': 'The three pillars of Dat...   \n",
       " 5           1.0  [{'args': {'prompt': 'What are tools used in ?...   \n",
       " \n",
       "          groundedness_measure_with_cot_reasons_calls  \\\n",
       " 0  [{'args': {'source': [[{'page_content': 'How d...   \n",
       " 1  [{'args': {'source': [[{'page_content': 'Altho...   \n",
       " 2  [{'args': {'source': [[{'page_content': 'This ...   \n",
       " 3  [{'args': {'source': [[{'page_content': 'Platf...   \n",
       " 4  [{'args': {'source': [[{'page_content': \"That’...   \n",
       " 5  [{'args': {'source': [[{'page_content': 'Next,...   \n",
       " \n",
       "                                      relevance_calls  \\\n",
       " 0  [{'args': {'prompt': 'What is Data Product?', ...   \n",
       " 1  [{'args': {'prompt': 'What is difference betwe...   \n",
       " 2  [{'args': {'prompt': 'What is Data Mesh?', 're...   \n",
       " 3  [{'args': {'prompt': 'How do Source-Oriented D...   \n",
       " 4  [{'args': {'prompt': 'The three pillars of Dat...   \n",
       " 5  [{'args': {'prompt': 'What are tools used in ?...   \n",
       " \n",
       "                                   qs_relevance_calls Ground Truth Agreement  \\\n",
       " 0  [{'args': {'question': 'What is Data Product?'...                    NaN   \n",
       " 1  [{'args': {'question': 'What is difference bet...                    NaN   \n",
       " 2  [{'args': {'question': 'What is Data Mesh?', '...                    1.0   \n",
       " 3  [{'args': {'question': 'How do Source-Oriented...                    0.5   \n",
       " 4  [{'args': {'question': 'The three pillars of D...                    NaN   \n",
       " 5  [{'args': {'question': 'What are tools used in...                    NaN   \n",
       " \n",
       "   latency  total_tokens  total_cost  \n",
       " 0      13             0         0.0  \n",
       " 1      36             0         0.0  \n",
       " 2      29             0         0.0  \n",
       " 3      43             0         0.0  \n",
       " 4      37             0         0.0  \n",
       " 5      45             0         0.0  \n",
       " \n",
       " [6 rows x 22 columns],\n",
       " ['Ground Truth Agreement',\n",
       "  'qs_relevance',\n",
       "  'relevance',\n",
       "  'groundedness_measure_with_cot_reasons'])"
      ]
     },
     "execution_count": 47,
     "metadata": {},
     "output_type": "execute_result"
    }
   ],
   "source": [
    "tru.get_records_and_feedback(app_ids=[])"
   ]
  },
  {
   "cell_type": "code",
   "execution_count": 48,
   "metadata": {},
   "outputs": [
    {
     "data": {
      "text/html": [
       "<div>\n",
       "<style scoped>\n",
       "    .dataframe tbody tr th:only-of-type {\n",
       "        vertical-align: middle;\n",
       "    }\n",
       "\n",
       "    .dataframe tbody tr th {\n",
       "        vertical-align: top;\n",
       "    }\n",
       "\n",
       "    .dataframe thead th {\n",
       "        text-align: right;\n",
       "    }\n",
       "</style>\n",
       "<table border=\"1\" class=\"dataframe\">\n",
       "  <thead>\n",
       "    <tr style=\"text-align: right;\">\n",
       "      <th></th>\n",
       "      <th>Ground Truth Agreement</th>\n",
       "      <th>qs_relevance</th>\n",
       "      <th>relevance</th>\n",
       "      <th>groundedness_measure_with_cot_reasons</th>\n",
       "      <th>latency</th>\n",
       "      <th>total_cost</th>\n",
       "    </tr>\n",
       "    <tr>\n",
       "      <th>app_id</th>\n",
       "      <th></th>\n",
       "      <th></th>\n",
       "      <th></th>\n",
       "      <th></th>\n",
       "      <th></th>\n",
       "      <th></th>\n",
       "    </tr>\n",
       "  </thead>\n",
       "  <tbody>\n",
       "    <tr>\n",
       "      <th>normal_rag</th>\n",
       "      <td>0.75</td>\n",
       "      <td>0.933333</td>\n",
       "      <td>0.783333</td>\n",
       "      <td>0.5</td>\n",
       "      <td>33.833333</td>\n",
       "      <td>0.0</td>\n",
       "    </tr>\n",
       "  </tbody>\n",
       "</table>\n",
       "</div>"
      ],
      "text/plain": [
       "            Ground Truth Agreement  qs_relevance  relevance  \\\n",
       "app_id                                                        \n",
       "normal_rag                    0.75      0.933333   0.783333   \n",
       "\n",
       "            groundedness_measure_with_cot_reasons    latency  total_cost  \n",
       "app_id                                                                    \n",
       "normal_rag                                    0.5  33.833333         0.0  "
      ]
     },
     "execution_count": 48,
     "metadata": {},
     "output_type": "execute_result"
    }
   ],
   "source": [
    "tru.get_leaderboard(app_ids=[])"
   ]
  },
  {
   "cell_type": "markdown",
   "metadata": {},
   "source": [
    "# Neo4j RAG (Parent Retriever)"
   ]
  },
  {
   "cell_type": "code",
   "execution_count": 52,
   "metadata": {},
   "outputs": [],
   "source": [
    "graph = Neo4jGraph(\n",
    "    url='bolt://localhost:7687',\n",
    "    username='neo4j',\n",
    "    password='password',\n",
    ")"
   ]
  },
  {
   "cell_type": "code",
   "execution_count": 53,
   "metadata": {},
   "outputs": [],
   "source": [
    "# Ingestion of data in the neo4j graph\n",
    "from langchain.text_splitter import TokenTextSplitter\n",
    "from langchain.document_loaders import WikipediaLoader\n",
    "\n",
    "\n",
    "parent_splitter = TokenTextSplitter(chunk_size=1000, chunk_overlap=24)\n",
    "child_splitter = TokenTextSplitter(chunk_size=100, chunk_overlap=24)\n",
    "\n",
    "parent_documents = parent_splitter.split_documents(raw_documents)\n",
    "\n",
    "for d in parent_documents:\n",
    "    child_documents = child_splitter.split_documents([d])\n",
    "    parent_text = d.page_content\n",
    "    child_texts = [c.page_content for c in child_documents]\n",
    "\n",
    "    # Create parent node and child nodes with relationships\n",
    "    graph.query(\n",
    "        \"\"\"\n",
    "        UNWIND $children AS child\n",
    "        CREATE (p:Parent {text: $parent})\n",
    "        CREATE (c:Child {text: child})\n",
    "        CREATE (c)-[:HAS_PARENT]->(p)\n",
    "        \"\"\",\n",
    "        {\"parent\": parent_text, \"children\": child_texts}\n",
    "    )"
   ]
  },
  {
   "cell_type": "code",
   "execution_count": 54,
   "metadata": {},
   "outputs": [
    {
     "name": "stdout",
     "output_type": "stream",
     "text": [
      "bert_load_from_file: gguf version     = 2\n",
      "bert_load_from_file: gguf alignment   = 32\n",
      "bert_load_from_file: gguf data offset = 695552\n",
      "bert_load_from_file: model name           = BERT\n",
      "bert_load_from_file: model architecture   = bert\n",
      "bert_load_from_file: model file type      = 1\n",
      "bert_load_from_file: bert tokenizer vocab = 30522\n"
     ]
    }
   ],
   "source": [
    "from langchain.vectorstores.neo4j_vector import Neo4jVector\n",
    "\n",
    "retrieval_query = \"\"\"\n",
    "MATCH (node)-[:HAS_PARENT]->(parent)\n",
    "RETURN parent.text AS text, score, {} AS metadata\n",
    "\"\"\"\n",
    "\n",
    "from langchain.embeddings import (\n",
    "    OllamaEmbeddings,\n",
    "    SentenceTransformerEmbeddings,\n",
    "    BedrockEmbeddings,\n",
    ")\n",
    "\n",
    "vector_index = Neo4jVector.from_existing_graph(\n",
    "    GPT4AllEmbeddings(),\n",
    "    url='bolt://localhost:7687',\n",
    "    username='neo4j',\n",
    "    password='password',\n",
    "    index_name=\"index_neo4j\",\n",
    "    node_label=\"Child\",\n",
    "    text_node_properties=[\"text\"],\n",
    "    embedding_node_property=\"embedding\",\n",
    "    retrieval_query=retrieval_query,\n",
    ")"
   ]
  },
  {
   "cell_type": "code",
   "execution_count": 55,
   "metadata": {},
   "outputs": [],
   "source": [
    "from langchain.prompts import PromptTemplate\n",
    "QA_CHAIN_PROMPT = PromptTemplate.from_template(\"\"\"Use the following pieces of context to answer the question at the end. \n",
    "If you don't know the answer, just say that you don't know, don't try to make up an answer.  \n",
    "\n",
    "RULES:                                               \n",
    "DO NOT INCLUDE THE INFORMATION IN YOUR ANSWER.\n",
    "\n",
    "CONTEXT: \n",
    "{context}\n",
    "\n",
    "Question:\n",
    "{question}\n",
    "\n",
    "\"\"\")"
   ]
  },
  {
   "cell_type": "code",
   "execution_count": 56,
   "metadata": {},
   "outputs": [],
   "source": [
    "neo4j_retriever = vector_index.as_retriever()"
   ]
  },
  {
   "cell_type": "code",
   "execution_count": 57,
   "metadata": {},
   "outputs": [],
   "source": [
    "rag_neo4j_chain = (\n",
    "    {\"context\": neo4j_retriever | format_docs, \"question\": RunnablePassthrough()}\n",
    "    | QA_CHAIN_PROMPT\n",
    "    | ollama\n",
    "    | StrOutputParser()\n",
    ")"
   ]
  },
  {
   "cell_type": "code",
   "execution_count": 58,
   "metadata": {},
   "outputs": [],
   "source": [
    "tru_recorder_neo4j = TruChain(rag_neo4j_chain,\n",
    "    app_id='neo4j_parental_rag',\n",
    "    feedbacks=[f_groundedness,f_qa_relevance,f_context_relevance,f_groundtruth])"
   ]
  },
  {
   "cell_type": "code",
   "execution_count": 59,
   "metadata": {},
   "outputs": [
    {
     "data": {
      "text/plain": [
       "'A data product is a centralized repository of data that can be easily accessed and used by various teams within an organization. It acts as a single source of truth for data, providing a unified view of data across different systems, applications, and sources. Data products are designed to streamline data management processes, improve data quality, and enhance the overall customer experience. They typically include features such as data visualization, reporting, and analytics, enabling teams to gain insights from the data more effectively.\\n\\nData products can be categorized into two types: source-oriented and consumer-oriented. Source-oriented data products provide data directly from the source system, while consumer-oriented data products aggregate data from multiple sources and present it in a unified view. Examples of data products include data warehouses, data lakes, and business intelligence tools.\\n\\nThe benefits of using data products include improved data quality, reduced duplication of effort, increased efficiency, and enhanced decision-making capabilities. By centralizing data management processes, organizations can better leverage their data assets to gain valuable insights and improve their overall competitiveness.'"
      ]
     },
     "metadata": {},
     "output_type": "display_data"
    },
    {
     "name": "stderr",
     "output_type": "stream",
     "text": [
      "/Users/samvardhan/miniforge3/envs/rag_qa/lib/python3.11/site-packages/numpy/core/fromnumeric.py:3504: RuntimeWarning: Mean of empty slice.\n",
      "  return _methods._mean(a, axis=axis, dtype=dtype,\n",
      "/Users/samvardhan/miniforge3/envs/rag_qa/lib/python3.11/site-packages/numpy/core/_methods.py:129: RuntimeWarning: invalid value encountered in scalar divide\n",
      "  ret = ret.dtype.type(ret / rcount)\n"
     ]
    },
    {
     "data": {
      "text/plain": [
       "'I don\\'t know the answer to that question as I\\'m just an AI and do not have access to external information. However, I can provide some context and insights that may help you understand the difference between Data Mesh and Data Fabric.\\n\\nData Mesh and Data Fabric are two emerging technologies in the field of data management, and they share some similarities but also have distinct differences.\\n\\nData Mesh is a decentralized data architecture that enables multiple domains to share and access data in a secure and efficient manner. It is based on a network of interconnected data stores, known as \"mesh nodes,\" which can be located on-premises or in the cloud. Data Mesh allows for data sharing, data integration, and data analytics across different domains, enabling organizations to leverage their data assets more effectively.\\n\\nData Fabric, on the other hand, is a more general term that refers to the collection of tools and technologies used to manage and integrate data across different systems, applications, and domains. Data Fabric can include various data storage solutions, such as relational databases, NoSQL databases, data warehouses, and data lakes. It can also include data integration tools, data quality tools, and other data management technologies.\\n\\nThe main difference between Data Mesh and Data Fabric is their focus and scope. Data Mesh is specifically designed to address the challenges of decentralized data architectures, such as data silos, data fragmentation, and data security concerns. It provides a network-based architecture that enables data sharing and integration across different domains, while maintaining data privacy and security controls.\\n\\nData Fabric, on the other hand, is more general term that encompasses a broader range of data management technologies and tools. While it can include Data Mesh architectures, it may also include other data storage solutions, such as databases, data warehouses, and data lakes. Data Fabric provides a comprehensive framework for managing and integrating data across different systems, applications, and domains, but it may not provide the same level of decentralization, security, and privacy controls as Data Mesh.\\n\\nIn summary, Data Mesh is a specific type of data architecture that focuses on decentralized data sharing and integration, while Data Fabric is a more general term that encompasses a broader range of data management technologies and tools. Both can be useful depending on the specific needs and requirements of an organization, but they have distinct differences in terms of their focus, scope, and capabilities.'"
      ]
     },
     "metadata": {},
     "output_type": "display_data"
    },
    {
     "name": "stderr",
     "output_type": "stream",
     "text": [
      "/Users/samvardhan/miniforge3/envs/rag_qa/lib/python3.11/site-packages/numpy/core/fromnumeric.py:3504: RuntimeWarning: Mean of empty slice.\n",
      "  return _methods._mean(a, axis=axis, dtype=dtype,\n",
      "/Users/samvardhan/miniforge3/envs/rag_qa/lib/python3.11/site-packages/numpy/core/_methods.py:129: RuntimeWarning: invalid value encountered in scalar divide\n",
      "  ret = ret.dtype.type(ret / rcount)\n"
     ]
    },
    {
     "data": {
      "text/plain": [
       "'Data Mesh is a data sharing and federation architecture that enables organizations to share data across different domains and platforms, while maintaining data locality and governance. It is built on the principles of atomicity, functionality, and cohesion, and uses a logical architecture to define how data is shared and consumed across the mesh. Data Mesh is not just about technology, but also involves organizational change, product thinking, and the right technology decisions to ensure success.'"
      ]
     },
     "metadata": {},
     "output_type": "display_data"
    },
    {
     "name": "stderr",
     "output_type": "stream",
     "text": [
      "/Users/samvardhan/miniforge3/envs/rag_qa/lib/python3.11/site-packages/numpy/core/fromnumeric.py:3504: RuntimeWarning: Mean of empty slice.\n",
      "  return _methods._mean(a, axis=axis, dtype=dtype,\n",
      "/Users/samvardhan/miniforge3/envs/rag_qa/lib/python3.11/site-packages/numpy/core/_methods.py:129: RuntimeWarning: invalid value encountered in scalar divide\n",
      "  ret = ret.dtype.type(ret / rcount)\n"
     ]
    },
    {
     "data": {
      "text/plain": [
       "'In a Data Mesh architecture, both source-oriented data products (SODP) and customer-oriented data products (CODP) are used to meet the needs of different stakeholders. The key difference between these two types of data products lies in their purpose, scope, and ownership.\\n\\nSource-Oriented Data Products (SODP):\\n\\n* Are designed to support the creation, management, and sharing of data within a specific domain or business function.\\n* Are typically used by data product teams to build and maintain data products that are critical to their specific business needs.\\n* Have a focused scope and are usually owned by a single domain or business function.\\n* Are governed by the data sharing policies and access controls defined by the owning domain or business function.\\n\\nCustomer-Oriented Data Products (CODP):\\n\\n* Are designed to provide a unified view of data across multiple domains or business functions for a specific customer or user group.\\n* Are typically used by product teams to build and maintain data products that are critical to meeting the needs of their customers or end-users.\\n* Have a broader scope than SODPs and may be owned by multiple domains or business functions.\\n* Are governed by a set of shared policies and access controls defined by the Data Governance Office or other centralized authority.\\n\\nIn summary, while both SODPs and CODPs are used to meet the needs of different stakeholders in a Data Mesh architecture, SODPs are focused on supporting the specific business needs of a single domain or function, while CODPs provide a unified view of data across multiple domains or functions for a specific customer or user group.'"
      ]
     },
     "metadata": {},
     "output_type": "display_data"
    },
    {
     "name": "stderr",
     "output_type": "stream",
     "text": [
      "/Users/samvardhan/miniforge3/envs/rag_qa/lib/python3.11/site-packages/numpy/core/fromnumeric.py:3504: RuntimeWarning: Mean of empty slice.\n",
      "  return _methods._mean(a, axis=axis, dtype=dtype,\n",
      "/Users/samvardhan/miniforge3/envs/rag_qa/lib/python3.11/site-packages/numpy/core/_methods.py:129: RuntimeWarning: invalid value encountered in scalar divide\n",
      "  ret = ret.dtype.type(ret / rcount)\n"
     ]
    },
    {
     "data": {
      "text/plain": [
       "'The three pillars of Data Mesh success are:\\n\\n1. Organizational change and product thinking: This refers to the ability of an organization to adapt and evolve its culture, mindset, and ways of working to embrace the Data Mesh paradigm.\\n2. Technical capabilities and architecture: This involves the development and deployment of the necessary technology and infrastructure to support the Data Mesh, including data pipelines, APIs, and other tools and platforms.\\n3. Operating model and governance: This includes the creation of a robust operating model that defines roles, responsibilities, and decision-making processes, as well as the development of a governance structure to ensure compliance with regulatory requirements and ethical standards.'"
      ]
     },
     "metadata": {},
     "output_type": "display_data"
    },
    {
     "name": "stderr",
     "output_type": "stream",
     "text": [
      "/Users/samvardhan/miniforge3/envs/rag_qa/lib/python3.11/site-packages/numpy/core/fromnumeric.py:3504: RuntimeWarning: Mean of empty slice.\n",
      "  return _methods._mean(a, axis=axis, dtype=dtype,\n",
      "/Users/samvardhan/miniforge3/envs/rag_qa/lib/python3.11/site-packages/numpy/core/_methods.py:129: RuntimeWarning: invalid value encountered in scalar divide\n",
      "  ret = ret.dtype.type(ret / rcount)\n"
     ]
    },
    {
     "data": {
      "text/plain": [
       "\"Based on the information provided in the article, here are some of the key tools used in a Data Mesh architecture:\\n\\n1. Snowflake - used for data storage and compute.\\n2. Talend - used for data transformation and data quality testing.\\n3. DBT (Data Builders Tool) - used for data transformation and data quality testing.\\n4. JDBC (Java Database Connectivity) - used as a standard input and output port to support addressability.\\n5. Collibra - used for cataloging the product meta data.\\n6. ERP systems - used to manage inventory.\\n7. Talend - used for data integration and workflow automation.\\n8. Apache NiFi - used for workflow orchestration and data integration.\\n9. Apache Kafka - used for event-driven architecture and messaging.\\n10. Docker - used for containerization and microservices architecture.\\n\\nIt's worth noting that the specific tools used in a Data Mesh architecture can vary depending on the organization's requirements and preferences. The article highlights that the platform team should work with data product teams to define and determine a high-level architecture for a data product, which can then be implemented using a variety of tooling choices.\""
      ]
     },
     "metadata": {},
     "output_type": "display_data"
    }
   ],
   "source": [
    "with tru_recorder_neo4j as recording:\n",
    "    for prompt in prompts:\n",
    "        llm_response = rag_neo4j_chain.invoke(prompt)\n",
    "        display(llm_response)"
   ]
  },
  {
   "cell_type": "code",
   "execution_count": 54,
   "metadata": {},
   "outputs": [
    {
     "data": {
      "text/plain": [
       "'A data product is a specific output or outcome produced by a data product team, designed to serve a specific user-driven goal identified in the Lean Value Tree. Data products are typically subject to clearly defined Service Level Agreements (SLAs) and are owned by a single domain or stakeholder, who are responsible for their upkeep.\\n\\nA data product can be created through various means such as:\\n\\n1. Data integration: Combining data from multiple sources into a unified view.\\n2. Data transformation: Converting data into a different format to make it more usable or consumable.\\n3. Data analysis: Examining and interpreting data to extract insights or meaningful patterns.\\n4. Data visualization: Presenting data in a graphical or pictorial form to facilitate easy understanding and interpretation.\\n5. Machine learning: Building predictive models or automating decision-making processes using machine learning algorithms.\\n6. Application development: Creating software applications that consume or produce data.\\n7. Database management: Managing large amounts of structured or unstructured data in a database.\\n8. Data cleansing and normalization: Ensuring the quality and consistency of data across different sources or over time.\\n9. Data warehousing: Storing and managing large volumes of data in a centralized repository for easy access and analysis.\\n10. Real-time data processing: Processing and analyzing data as it is generated, allowing for near real-time insights and decision-making.\\n\\nThe purpose of a data product is to provide value to the user or consumer by delivering specific outputs or outcomes that meet their needs or goals. By understanding the needs of the user and applying the right techniques and technologies, data products can help organizations make better decisions, improve operational efficiency, and drive innovation.'"
      ]
     },
     "execution_count": 54,
     "metadata": {},
     "output_type": "execute_result"
    }
   ],
   "source": [
    "rag_neo4j_chain.invoke(\"What is data product\")"
   ]
  },
  {
   "cell_type": "code",
   "execution_count": 60,
   "metadata": {},
   "outputs": [
    {
     "data": {
      "text/html": [
       "<div>\n",
       "<style scoped>\n",
       "    .dataframe tbody tr th:only-of-type {\n",
       "        vertical-align: middle;\n",
       "    }\n",
       "\n",
       "    .dataframe tbody tr th {\n",
       "        vertical-align: top;\n",
       "    }\n",
       "\n",
       "    .dataframe thead th {\n",
       "        text-align: right;\n",
       "    }\n",
       "</style>\n",
       "<table border=\"1\" class=\"dataframe\">\n",
       "  <thead>\n",
       "    <tr style=\"text-align: right;\">\n",
       "      <th></th>\n",
       "      <th>app_id</th>\n",
       "      <th>app_json</th>\n",
       "      <th>type</th>\n",
       "      <th>record_id</th>\n",
       "      <th>input</th>\n",
       "      <th>output</th>\n",
       "      <th>tags</th>\n",
       "      <th>record_json</th>\n",
       "      <th>cost_json</th>\n",
       "      <th>perf_json</th>\n",
       "      <th>...</th>\n",
       "      <th>relevance</th>\n",
       "      <th>qs_relevance</th>\n",
       "      <th>Ground Truth Agreement_calls</th>\n",
       "      <th>groundedness_measure_with_cot_reasons_calls</th>\n",
       "      <th>relevance_calls</th>\n",
       "      <th>qs_relevance_calls</th>\n",
       "      <th>Ground Truth Agreement</th>\n",
       "      <th>latency</th>\n",
       "      <th>total_tokens</th>\n",
       "      <th>total_cost</th>\n",
       "    </tr>\n",
       "  </thead>\n",
       "  <tbody>\n",
       "    <tr>\n",
       "      <th>0</th>\n",
       "      <td>normal_rag</td>\n",
       "      <td>{\"tru_class_info\": {\"name\": \"TruChain\", \"modul...</td>\n",
       "      <td>RunnableSequence(langchain_core.runnables.base)</td>\n",
       "      <td>record_hash_d3c45489651619dba74853273625fc2b</td>\n",
       "      <td>\"What is Data Product?\"</td>\n",
       "      <td>\"Thank you for providing the context. Based on...</td>\n",
       "      <td>-</td>\n",
       "      <td>{\"record_id\": \"record_hash_d3c45489651619dba74...</td>\n",
       "      <td>{\"n_requests\": 0, \"n_successful_requests\": 0, ...</td>\n",
       "      <td>{\"start_time\": \"2024-01-16T20:19:26.065579\", \"...</td>\n",
       "      <td>...</td>\n",
       "      <td>1.0</td>\n",
       "      <td>1.0</td>\n",
       "      <td>[{'args': {'prompt': 'What is Data Product?', ...</td>\n",
       "      <td>[{'args': {'source': [[{'page_content': 'How d...</td>\n",
       "      <td>[{'args': {'prompt': 'What is Data Product?', ...</td>\n",
       "      <td>[{'args': {'question': 'What is Data Product?'...</td>\n",
       "      <td>NaN</td>\n",
       "      <td>13</td>\n",
       "      <td>0</td>\n",
       "      <td>0.0</td>\n",
       "    </tr>\n",
       "    <tr>\n",
       "      <th>1</th>\n",
       "      <td>normal_rag</td>\n",
       "      <td>{\"tru_class_info\": {\"name\": \"TruChain\", \"modul...</td>\n",
       "      <td>RunnableSequence(langchain_core.runnables.base)</td>\n",
       "      <td>record_hash_dc0bd44ca90e536c856d2753a07754bd</td>\n",
       "      <td>\"What is difference between Data Mesh and Data...</td>\n",
       "      <td>\" Thank you for providing the context. Based o...</td>\n",
       "      <td>-</td>\n",
       "      <td>{\"record_id\": \"record_hash_dc0bd44ca90e536c856...</td>\n",
       "      <td>{\"n_requests\": 0, \"n_successful_requests\": 0, ...</td>\n",
       "      <td>{\"start_time\": \"2024-01-16T20:19:40.337269\", \"...</td>\n",
       "      <td>...</td>\n",
       "      <td>0.0</td>\n",
       "      <td>1.0</td>\n",
       "      <td>[{'args': {'prompt': 'What is difference betwe...</td>\n",
       "      <td>[{'args': {'source': [[{'page_content': 'Altho...</td>\n",
       "      <td>[{'args': {'prompt': 'What is difference betwe...</td>\n",
       "      <td>[{'args': {'question': 'What is difference bet...</td>\n",
       "      <td>NaN</td>\n",
       "      <td>36</td>\n",
       "      <td>0</td>\n",
       "      <td>0.0</td>\n",
       "    </tr>\n",
       "    <tr>\n",
       "      <th>2</th>\n",
       "      <td>normal_rag</td>\n",
       "      <td>{\"tru_class_info\": {\"name\": \"TruChain\", \"modul...</td>\n",
       "      <td>RunnableSequence(langchain_core.runnables.base)</td>\n",
       "      <td>record_hash_e33442bdee31839b3a4826ad19a3203c</td>\n",
       "      <td>\"What is Data Mesh?\"</td>\n",
       "      <td>\"I don't know the answer to your question. The...</td>\n",
       "      <td>-</td>\n",
       "      <td>{\"record_id\": \"record_hash_e33442bdee31839b3a4...</td>\n",
       "      <td>{\"n_requests\": 0, \"n_successful_requests\": 0, ...</td>\n",
       "      <td>{\"start_time\": \"2024-01-16T20:20:16.734483\", \"...</td>\n",
       "      <td>...</td>\n",
       "      <td>1.0</td>\n",
       "      <td>0.6</td>\n",
       "      <td>[{'args': {'prompt': 'What is Data Mesh?', 're...</td>\n",
       "      <td>[{'args': {'source': [[{'page_content': 'This ...</td>\n",
       "      <td>[{'args': {'prompt': 'What is Data Mesh?', 're...</td>\n",
       "      <td>[{'args': {'question': 'What is Data Mesh?', '...</td>\n",
       "      <td>1.0</td>\n",
       "      <td>29</td>\n",
       "      <td>0</td>\n",
       "      <td>0.0</td>\n",
       "    </tr>\n",
       "    <tr>\n",
       "      <th>3</th>\n",
       "      <td>normal_rag</td>\n",
       "      <td>{\"tru_class_info\": {\"name\": \"TruChain\", \"modul...</td>\n",
       "      <td>RunnableSequence(langchain_core.runnables.base)</td>\n",
       "      <td>record_hash_c5cfbb0cef74eb801dde07341f291a92</td>\n",
       "      <td>\"How do Source-Oriented Data Products (SODP) d...</td>\n",
       "      <td>\"I don't know the answer to your question. Acc...</td>\n",
       "      <td>-</td>\n",
       "      <td>{\"record_id\": \"record_hash_c5cfbb0cef74eb801dd...</td>\n",
       "      <td>{\"n_requests\": 0, \"n_successful_requests\": 0, ...</td>\n",
       "      <td>{\"start_time\": \"2024-01-16T20:20:46.631076\", \"...</td>\n",
       "      <td>...</td>\n",
       "      <td>1.0</td>\n",
       "      <td>1.0</td>\n",
       "      <td>[{'args': {'prompt': 'How do Source-Oriented D...</td>\n",
       "      <td>[{'args': {'source': [[{'page_content': 'Platf...</td>\n",
       "      <td>[{'args': {'prompt': 'How do Source-Oriented D...</td>\n",
       "      <td>[{'args': {'question': 'How do Source-Oriented...</td>\n",
       "      <td>0.5</td>\n",
       "      <td>43</td>\n",
       "      <td>0</td>\n",
       "      <td>0.0</td>\n",
       "    </tr>\n",
       "    <tr>\n",
       "      <th>4</th>\n",
       "      <td>normal_rag</td>\n",
       "      <td>{\"tru_class_info\": {\"name\": \"TruChain\", \"modul...</td>\n",
       "      <td>RunnableSequence(langchain_core.runnables.base)</td>\n",
       "      <td>record_hash_287db50bcddd41703329ae07aba12ce1</td>\n",
       "      <td>\"The three pillars of Data Mesh success?\"</td>\n",
       "      <td>\"Based on the context provided, the three pill...</td>\n",
       "      <td>-</td>\n",
       "      <td>{\"record_id\": \"record_hash_287db50bcddd4170332...</td>\n",
       "      <td>{\"n_requests\": 0, \"n_successful_requests\": 0, ...</td>\n",
       "      <td>{\"start_time\": \"2024-01-16T20:21:30.075655\", \"...</td>\n",
       "      <td>...</td>\n",
       "      <td>1.0</td>\n",
       "      <td>1.0</td>\n",
       "      <td>[{'args': {'prompt': 'The three pillars of Dat...</td>\n",
       "      <td>[{'args': {'source': [[{'page_content': \"That’...</td>\n",
       "      <td>[{'args': {'prompt': 'The three pillars of Dat...</td>\n",
       "      <td>[{'args': {'question': 'The three pillars of D...</td>\n",
       "      <td>NaN</td>\n",
       "      <td>37</td>\n",
       "      <td>0</td>\n",
       "      <td>0.0</td>\n",
       "    </tr>\n",
       "    <tr>\n",
       "      <th>5</th>\n",
       "      <td>normal_rag</td>\n",
       "      <td>{\"tru_class_info\": {\"name\": \"TruChain\", \"modul...</td>\n",
       "      <td>RunnableSequence(langchain_core.runnables.base)</td>\n",
       "      <td>record_hash_161c4b38b99cfa03fbc9bada88996348</td>\n",
       "      <td>\"What are tools used in ?\"</td>\n",
       "      <td>\"Based on the context provided, the tools used...</td>\n",
       "      <td>-</td>\n",
       "      <td>{\"record_id\": \"record_hash_161c4b38b99cfa03fbc...</td>\n",
       "      <td>{\"n_requests\": 0, \"n_successful_requests\": 0, ...</td>\n",
       "      <td>{\"start_time\": \"2024-01-16T20:22:08.272846\", \"...</td>\n",
       "      <td>...</td>\n",
       "      <td>0.7</td>\n",
       "      <td>1.0</td>\n",
       "      <td>[{'args': {'prompt': 'What are tools used in ?...</td>\n",
       "      <td>[{'args': {'source': [[{'page_content': 'Next,...</td>\n",
       "      <td>[{'args': {'prompt': 'What are tools used in ?...</td>\n",
       "      <td>[{'args': {'question': 'What are tools used in...</td>\n",
       "      <td>NaN</td>\n",
       "      <td>45</td>\n",
       "      <td>0</td>\n",
       "      <td>0.0</td>\n",
       "    </tr>\n",
       "    <tr>\n",
       "      <th>6</th>\n",
       "      <td>neo4j_parental_rag</td>\n",
       "      <td>{\"tru_class_info\": {\"name\": \"TruChain\", \"modul...</td>\n",
       "      <td>RunnableSequence(langchain_core.runnables.base)</td>\n",
       "      <td>record_hash_bcd4be4a0eaa52412f1ae749a619523b</td>\n",
       "      <td>\"What is Data Product?\"</td>\n",
       "      <td>\"A data product is a centralized repository of...</td>\n",
       "      <td>-</td>\n",
       "      <td>{\"record_id\": \"record_hash_bcd4be4a0eaa52412f1...</td>\n",
       "      <td>{\"n_requests\": 0, \"n_successful_requests\": 0, ...</td>\n",
       "      <td>{\"start_time\": \"2024-01-16T20:25:46.245874\", \"...</td>\n",
       "      <td>...</td>\n",
       "      <td>0.9</td>\n",
       "      <td>1.0</td>\n",
       "      <td>[{'args': {'prompt': 'What is Data Product?', ...</td>\n",
       "      <td>[{'args': {'source': [[{'page_content': \" stan...</td>\n",
       "      <td>[{'args': {'prompt': 'What is Data Product?', ...</td>\n",
       "      <td>[{'args': {'question': 'What is Data Product?'...</td>\n",
       "      <td>NaN</td>\n",
       "      <td>13</td>\n",
       "      <td>0</td>\n",
       "      <td>0.0</td>\n",
       "    </tr>\n",
       "    <tr>\n",
       "      <th>7</th>\n",
       "      <td>neo4j_parental_rag</td>\n",
       "      <td>{\"tru_class_info\": {\"name\": \"TruChain\", \"modul...</td>\n",
       "      <td>RunnableSequence(langchain_core.runnables.base)</td>\n",
       "      <td>record_hash_e1625f706824a0e40d1129ca258f311a</td>\n",
       "      <td>\"What is difference between Data Mesh and Data...</td>\n",
       "      <td>\"I don't know the answer to that question as I...</td>\n",
       "      <td>-</td>\n",
       "      <td>{\"record_id\": \"record_hash_e1625f706824a0e40d1...</td>\n",
       "      <td>{\"n_requests\": 0, \"n_successful_requests\": 0, ...</td>\n",
       "      <td>{\"start_time\": \"2024-01-16T20:26:11.939792\", \"...</td>\n",
       "      <td>...</td>\n",
       "      <td>1.0</td>\n",
       "      <td>0.3</td>\n",
       "      <td>[{'args': {'prompt': 'What is difference betwe...</td>\n",
       "      <td>[{'args': {'source': [[{'page_content': ' deci...</td>\n",
       "      <td>[{'args': {'prompt': 'What is difference betwe...</td>\n",
       "      <td>[{'args': {'question': 'What is difference bet...</td>\n",
       "      <td>NaN</td>\n",
       "      <td>36</td>\n",
       "      <td>0</td>\n",
       "      <td>0.0</td>\n",
       "    </tr>\n",
       "    <tr>\n",
       "      <th>8</th>\n",
       "      <td>neo4j_parental_rag</td>\n",
       "      <td>{\"tru_class_info\": {\"name\": \"TruChain\", \"modul...</td>\n",
       "      <td>RunnableSequence(langchain_core.runnables.base)</td>\n",
       "      <td>record_hash_8d1c33c1745647b52a68dad3e212bcab</td>\n",
       "      <td>\"What is Data Mesh?\"</td>\n",
       "      <td>\"Data Mesh is a data sharing and federation ar...</td>\n",
       "      <td>-</td>\n",
       "      <td>{\"record_id\": \"record_hash_8d1c33c1745647b52a6...</td>\n",
       "      <td>{\"n_requests\": 0, \"n_successful_requests\": 0, ...</td>\n",
       "      <td>{\"start_time\": \"2024-01-16T20:27:52.988652\", \"...</td>\n",
       "      <td>...</td>\n",
       "      <td>1.0</td>\n",
       "      <td>1.0</td>\n",
       "      <td>[{'args': {'prompt': 'What is Data Mesh?', 're...</td>\n",
       "      <td>[{'args': {'source': [[{'page_content': ' deci...</td>\n",
       "      <td>[{'args': {'prompt': 'What is Data Mesh?', 're...</td>\n",
       "      <td>[{'args': {'question': 'What is Data Mesh?', '...</td>\n",
       "      <td>0.5</td>\n",
       "      <td>29</td>\n",
       "      <td>0</td>\n",
       "      <td>0.0</td>\n",
       "    </tr>\n",
       "    <tr>\n",
       "      <th>9</th>\n",
       "      <td>neo4j_parental_rag</td>\n",
       "      <td>{\"tru_class_info\": {\"name\": \"TruChain\", \"modul...</td>\n",
       "      <td>RunnableSequence(langchain_core.runnables.base)</td>\n",
       "      <td>record_hash_fecbdab56b85debb78bbea3ea7016086</td>\n",
       "      <td>\"How do Source-Oriented Data Products (SODP) d...</td>\n",
       "      <td>\"In a Data Mesh architecture, both source-orie...</td>\n",
       "      <td>-</td>\n",
       "      <td>{\"record_id\": \"record_hash_fecbdab56b85debb78b...</td>\n",
       "      <td>{\"n_requests\": 0, \"n_successful_requests\": 0, ...</td>\n",
       "      <td>{\"start_time\": \"2024-01-16T20:29:29.029647\", \"...</td>\n",
       "      <td>...</td>\n",
       "      <td>1.0</td>\n",
       "      <td>0.5</td>\n",
       "      <td>[{'args': {'prompt': 'How do Source-Oriented D...</td>\n",
       "      <td>[{'args': {'source': [[{'page_content': ' issu...</td>\n",
       "      <td>[{'args': {'prompt': 'How do Source-Oriented D...</td>\n",
       "      <td>[{'args': {'question': 'How do Source-Oriented...</td>\n",
       "      <td>0.8</td>\n",
       "      <td>43</td>\n",
       "      <td>0</td>\n",
       "      <td>0.0</td>\n",
       "    </tr>\n",
       "    <tr>\n",
       "      <th>10</th>\n",
       "      <td>neo4j_parental_rag</td>\n",
       "      <td>{\"tru_class_info\": {\"name\": \"TruChain\", \"modul...</td>\n",
       "      <td>RunnableSequence(langchain_core.runnables.base)</td>\n",
       "      <td>record_hash_0115aa555548d6c714b2342ab8b681e1</td>\n",
       "      <td>\"The three pillars of Data Mesh success?\"</td>\n",
       "      <td>\"The three pillars of Data Mesh success are:\\n...</td>\n",
       "      <td>-</td>\n",
       "      <td>{\"record_id\": \"record_hash_0115aa555548d6c714b...</td>\n",
       "      <td>{\"n_requests\": 0, \"n_successful_requests\": 0, ...</td>\n",
       "      <td>{\"start_time\": \"2024-01-16T20:31:10.186475\", \"...</td>\n",
       "      <td>...</td>\n",
       "      <td>1.0</td>\n",
       "      <td>0.4</td>\n",
       "      <td>[{'args': {'prompt': 'The three pillars of Dat...</td>\n",
       "      <td>[{'args': {'source': [[{'page_content': \", we ...</td>\n",
       "      <td>[{'args': {'prompt': 'The three pillars of Dat...</td>\n",
       "      <td>[{'args': {'question': 'The three pillars of D...</td>\n",
       "      <td>NaN</td>\n",
       "      <td>37</td>\n",
       "      <td>0</td>\n",
       "      <td>0.0</td>\n",
       "    </tr>\n",
       "    <tr>\n",
       "      <th>11</th>\n",
       "      <td>neo4j_parental_rag</td>\n",
       "      <td>{\"tru_class_info\": {\"name\": \"TruChain\", \"modul...</td>\n",
       "      <td>RunnableSequence(langchain_core.runnables.base)</td>\n",
       "      <td>record_hash_18418e5a593cc80b57770c073271c895</td>\n",
       "      <td>\"What are tools used in ?\"</td>\n",
       "      <td>\"Based on the information provided in the arti...</td>\n",
       "      <td>-</td>\n",
       "      <td>{\"record_id\": \"record_hash_18418e5a593cc80b577...</td>\n",
       "      <td>{\"n_requests\": 0, \"n_successful_requests\": 0, ...</td>\n",
       "      <td>{\"start_time\": \"2024-01-16T20:32:28.693938\", \"...</td>\n",
       "      <td>...</td>\n",
       "      <td>NaN</td>\n",
       "      <td>NaN</td>\n",
       "      <td>[{'args': {'prompt': 'What are tools used in ?...</td>\n",
       "      <td>NaN</td>\n",
       "      <td>NaN</td>\n",
       "      <td>NaN</td>\n",
       "      <td>NaN</td>\n",
       "      <td>45</td>\n",
       "      <td>0</td>\n",
       "      <td>0.0</td>\n",
       "    </tr>\n",
       "  </tbody>\n",
       "</table>\n",
       "<p>12 rows × 22 columns</p>\n",
       "</div>"
      ],
      "text/plain": [
       "                app_id                                           app_json  \\\n",
       "0           normal_rag  {\"tru_class_info\": {\"name\": \"TruChain\", \"modul...   \n",
       "1           normal_rag  {\"tru_class_info\": {\"name\": \"TruChain\", \"modul...   \n",
       "2           normal_rag  {\"tru_class_info\": {\"name\": \"TruChain\", \"modul...   \n",
       "3           normal_rag  {\"tru_class_info\": {\"name\": \"TruChain\", \"modul...   \n",
       "4           normal_rag  {\"tru_class_info\": {\"name\": \"TruChain\", \"modul...   \n",
       "5           normal_rag  {\"tru_class_info\": {\"name\": \"TruChain\", \"modul...   \n",
       "6   neo4j_parental_rag  {\"tru_class_info\": {\"name\": \"TruChain\", \"modul...   \n",
       "7   neo4j_parental_rag  {\"tru_class_info\": {\"name\": \"TruChain\", \"modul...   \n",
       "8   neo4j_parental_rag  {\"tru_class_info\": {\"name\": \"TruChain\", \"modul...   \n",
       "9   neo4j_parental_rag  {\"tru_class_info\": {\"name\": \"TruChain\", \"modul...   \n",
       "10  neo4j_parental_rag  {\"tru_class_info\": {\"name\": \"TruChain\", \"modul...   \n",
       "11  neo4j_parental_rag  {\"tru_class_info\": {\"name\": \"TruChain\", \"modul...   \n",
       "\n",
       "                                               type  \\\n",
       "0   RunnableSequence(langchain_core.runnables.base)   \n",
       "1   RunnableSequence(langchain_core.runnables.base)   \n",
       "2   RunnableSequence(langchain_core.runnables.base)   \n",
       "3   RunnableSequence(langchain_core.runnables.base)   \n",
       "4   RunnableSequence(langchain_core.runnables.base)   \n",
       "5   RunnableSequence(langchain_core.runnables.base)   \n",
       "6   RunnableSequence(langchain_core.runnables.base)   \n",
       "7   RunnableSequence(langchain_core.runnables.base)   \n",
       "8   RunnableSequence(langchain_core.runnables.base)   \n",
       "9   RunnableSequence(langchain_core.runnables.base)   \n",
       "10  RunnableSequence(langchain_core.runnables.base)   \n",
       "11  RunnableSequence(langchain_core.runnables.base)   \n",
       "\n",
       "                                       record_id  \\\n",
       "0   record_hash_d3c45489651619dba74853273625fc2b   \n",
       "1   record_hash_dc0bd44ca90e536c856d2753a07754bd   \n",
       "2   record_hash_e33442bdee31839b3a4826ad19a3203c   \n",
       "3   record_hash_c5cfbb0cef74eb801dde07341f291a92   \n",
       "4   record_hash_287db50bcddd41703329ae07aba12ce1   \n",
       "5   record_hash_161c4b38b99cfa03fbc9bada88996348   \n",
       "6   record_hash_bcd4be4a0eaa52412f1ae749a619523b   \n",
       "7   record_hash_e1625f706824a0e40d1129ca258f311a   \n",
       "8   record_hash_8d1c33c1745647b52a68dad3e212bcab   \n",
       "9   record_hash_fecbdab56b85debb78bbea3ea7016086   \n",
       "10  record_hash_0115aa555548d6c714b2342ab8b681e1   \n",
       "11  record_hash_18418e5a593cc80b57770c073271c895   \n",
       "\n",
       "                                                input  \\\n",
       "0                             \"What is Data Product?\"   \n",
       "1   \"What is difference between Data Mesh and Data...   \n",
       "2                                \"What is Data Mesh?\"   \n",
       "3   \"How do Source-Oriented Data Products (SODP) d...   \n",
       "4           \"The three pillars of Data Mesh success?\"   \n",
       "5                          \"What are tools used in ?\"   \n",
       "6                             \"What is Data Product?\"   \n",
       "7   \"What is difference between Data Mesh and Data...   \n",
       "8                                \"What is Data Mesh?\"   \n",
       "9   \"How do Source-Oriented Data Products (SODP) d...   \n",
       "10          \"The three pillars of Data Mesh success?\"   \n",
       "11                         \"What are tools used in ?\"   \n",
       "\n",
       "                                               output tags  \\\n",
       "0   \"Thank you for providing the context. Based on...    -   \n",
       "1   \" Thank you for providing the context. Based o...    -   \n",
       "2   \"I don't know the answer to your question. The...    -   \n",
       "3   \"I don't know the answer to your question. Acc...    -   \n",
       "4   \"Based on the context provided, the three pill...    -   \n",
       "5   \"Based on the context provided, the tools used...    -   \n",
       "6   \"A data product is a centralized repository of...    -   \n",
       "7   \"I don't know the answer to that question as I...    -   \n",
       "8   \"Data Mesh is a data sharing and federation ar...    -   \n",
       "9   \"In a Data Mesh architecture, both source-orie...    -   \n",
       "10  \"The three pillars of Data Mesh success are:\\n...    -   \n",
       "11  \"Based on the information provided in the arti...    -   \n",
       "\n",
       "                                          record_json  \\\n",
       "0   {\"record_id\": \"record_hash_d3c45489651619dba74...   \n",
       "1   {\"record_id\": \"record_hash_dc0bd44ca90e536c856...   \n",
       "2   {\"record_id\": \"record_hash_e33442bdee31839b3a4...   \n",
       "3   {\"record_id\": \"record_hash_c5cfbb0cef74eb801dd...   \n",
       "4   {\"record_id\": \"record_hash_287db50bcddd4170332...   \n",
       "5   {\"record_id\": \"record_hash_161c4b38b99cfa03fbc...   \n",
       "6   {\"record_id\": \"record_hash_bcd4be4a0eaa52412f1...   \n",
       "7   {\"record_id\": \"record_hash_e1625f706824a0e40d1...   \n",
       "8   {\"record_id\": \"record_hash_8d1c33c1745647b52a6...   \n",
       "9   {\"record_id\": \"record_hash_fecbdab56b85debb78b...   \n",
       "10  {\"record_id\": \"record_hash_0115aa555548d6c714b...   \n",
       "11  {\"record_id\": \"record_hash_18418e5a593cc80b577...   \n",
       "\n",
       "                                            cost_json  \\\n",
       "0   {\"n_requests\": 0, \"n_successful_requests\": 0, ...   \n",
       "1   {\"n_requests\": 0, \"n_successful_requests\": 0, ...   \n",
       "2   {\"n_requests\": 0, \"n_successful_requests\": 0, ...   \n",
       "3   {\"n_requests\": 0, \"n_successful_requests\": 0, ...   \n",
       "4   {\"n_requests\": 0, \"n_successful_requests\": 0, ...   \n",
       "5   {\"n_requests\": 0, \"n_successful_requests\": 0, ...   \n",
       "6   {\"n_requests\": 0, \"n_successful_requests\": 0, ...   \n",
       "7   {\"n_requests\": 0, \"n_successful_requests\": 0, ...   \n",
       "8   {\"n_requests\": 0, \"n_successful_requests\": 0, ...   \n",
       "9   {\"n_requests\": 0, \"n_successful_requests\": 0, ...   \n",
       "10  {\"n_requests\": 0, \"n_successful_requests\": 0, ...   \n",
       "11  {\"n_requests\": 0, \"n_successful_requests\": 0, ...   \n",
       "\n",
       "                                            perf_json  ... relevance  \\\n",
       "0   {\"start_time\": \"2024-01-16T20:19:26.065579\", \"...  ...       1.0   \n",
       "1   {\"start_time\": \"2024-01-16T20:19:40.337269\", \"...  ...       0.0   \n",
       "2   {\"start_time\": \"2024-01-16T20:20:16.734483\", \"...  ...       1.0   \n",
       "3   {\"start_time\": \"2024-01-16T20:20:46.631076\", \"...  ...       1.0   \n",
       "4   {\"start_time\": \"2024-01-16T20:21:30.075655\", \"...  ...       1.0   \n",
       "5   {\"start_time\": \"2024-01-16T20:22:08.272846\", \"...  ...       0.7   \n",
       "6   {\"start_time\": \"2024-01-16T20:25:46.245874\", \"...  ...       0.9   \n",
       "7   {\"start_time\": \"2024-01-16T20:26:11.939792\", \"...  ...       1.0   \n",
       "8   {\"start_time\": \"2024-01-16T20:27:52.988652\", \"...  ...       1.0   \n",
       "9   {\"start_time\": \"2024-01-16T20:29:29.029647\", \"...  ...       1.0   \n",
       "10  {\"start_time\": \"2024-01-16T20:31:10.186475\", \"...  ...       1.0   \n",
       "11  {\"start_time\": \"2024-01-16T20:32:28.693938\", \"...  ...       NaN   \n",
       "\n",
       "    qs_relevance                       Ground Truth Agreement_calls  \\\n",
       "0            1.0  [{'args': {'prompt': 'What is Data Product?', ...   \n",
       "1            1.0  [{'args': {'prompt': 'What is difference betwe...   \n",
       "2            0.6  [{'args': {'prompt': 'What is Data Mesh?', 're...   \n",
       "3            1.0  [{'args': {'prompt': 'How do Source-Oriented D...   \n",
       "4            1.0  [{'args': {'prompt': 'The three pillars of Dat...   \n",
       "5            1.0  [{'args': {'prompt': 'What are tools used in ?...   \n",
       "6            1.0  [{'args': {'prompt': 'What is Data Product?', ...   \n",
       "7            0.3  [{'args': {'prompt': 'What is difference betwe...   \n",
       "8            1.0  [{'args': {'prompt': 'What is Data Mesh?', 're...   \n",
       "9            0.5  [{'args': {'prompt': 'How do Source-Oriented D...   \n",
       "10           0.4  [{'args': {'prompt': 'The three pillars of Dat...   \n",
       "11           NaN  [{'args': {'prompt': 'What are tools used in ?...   \n",
       "\n",
       "          groundedness_measure_with_cot_reasons_calls  \\\n",
       "0   [{'args': {'source': [[{'page_content': 'How d...   \n",
       "1   [{'args': {'source': [[{'page_content': 'Altho...   \n",
       "2   [{'args': {'source': [[{'page_content': 'This ...   \n",
       "3   [{'args': {'source': [[{'page_content': 'Platf...   \n",
       "4   [{'args': {'source': [[{'page_content': \"That’...   \n",
       "5   [{'args': {'source': [[{'page_content': 'Next,...   \n",
       "6   [{'args': {'source': [[{'page_content': \" stan...   \n",
       "7   [{'args': {'source': [[{'page_content': ' deci...   \n",
       "8   [{'args': {'source': [[{'page_content': ' deci...   \n",
       "9   [{'args': {'source': [[{'page_content': ' issu...   \n",
       "10  [{'args': {'source': [[{'page_content': \", we ...   \n",
       "11                                                NaN   \n",
       "\n",
       "                                      relevance_calls  \\\n",
       "0   [{'args': {'prompt': 'What is Data Product?', ...   \n",
       "1   [{'args': {'prompt': 'What is difference betwe...   \n",
       "2   [{'args': {'prompt': 'What is Data Mesh?', 're...   \n",
       "3   [{'args': {'prompt': 'How do Source-Oriented D...   \n",
       "4   [{'args': {'prompt': 'The three pillars of Dat...   \n",
       "5   [{'args': {'prompt': 'What are tools used in ?...   \n",
       "6   [{'args': {'prompt': 'What is Data Product?', ...   \n",
       "7   [{'args': {'prompt': 'What is difference betwe...   \n",
       "8   [{'args': {'prompt': 'What is Data Mesh?', 're...   \n",
       "9   [{'args': {'prompt': 'How do Source-Oriented D...   \n",
       "10  [{'args': {'prompt': 'The three pillars of Dat...   \n",
       "11                                                NaN   \n",
       "\n",
       "                                   qs_relevance_calls Ground Truth Agreement  \\\n",
       "0   [{'args': {'question': 'What is Data Product?'...                    NaN   \n",
       "1   [{'args': {'question': 'What is difference bet...                    NaN   \n",
       "2   [{'args': {'question': 'What is Data Mesh?', '...                    1.0   \n",
       "3   [{'args': {'question': 'How do Source-Oriented...                    0.5   \n",
       "4   [{'args': {'question': 'The three pillars of D...                    NaN   \n",
       "5   [{'args': {'question': 'What are tools used in...                    NaN   \n",
       "6   [{'args': {'question': 'What is Data Product?'...                    NaN   \n",
       "7   [{'args': {'question': 'What is difference bet...                    NaN   \n",
       "8   [{'args': {'question': 'What is Data Mesh?', '...                    0.5   \n",
       "9   [{'args': {'question': 'How do Source-Oriented...                    0.8   \n",
       "10  [{'args': {'question': 'The three pillars of D...                    NaN   \n",
       "11                                                NaN                    NaN   \n",
       "\n",
       "   latency  total_tokens  total_cost  \n",
       "0       13             0         0.0  \n",
       "1       36             0         0.0  \n",
       "2       29             0         0.0  \n",
       "3       43             0         0.0  \n",
       "4       37             0         0.0  \n",
       "5       45             0         0.0  \n",
       "6       13             0         0.0  \n",
       "7       36             0         0.0  \n",
       "8       29             0         0.0  \n",
       "9       43             0         0.0  \n",
       "10      37             0         0.0  \n",
       "11      45             0         0.0  \n",
       "\n",
       "[12 rows x 22 columns]"
      ]
     },
     "execution_count": 60,
     "metadata": {},
     "output_type": "execute_result"
    }
   ],
   "source": [
    "tru.get_records_and_feedback(app_ids=[])[0]"
   ]
  },
  {
   "cell_type": "code",
   "execution_count": 61,
   "metadata": {},
   "outputs": [
    {
     "data": {
      "text/html": [
       "<div>\n",
       "<style scoped>\n",
       "    .dataframe tbody tr th:only-of-type {\n",
       "        vertical-align: middle;\n",
       "    }\n",
       "\n",
       "    .dataframe tbody tr th {\n",
       "        vertical-align: top;\n",
       "    }\n",
       "\n",
       "    .dataframe thead th {\n",
       "        text-align: right;\n",
       "    }\n",
       "</style>\n",
       "<table border=\"1\" class=\"dataframe\">\n",
       "  <thead>\n",
       "    <tr style=\"text-align: right;\">\n",
       "      <th></th>\n",
       "      <th>Ground Truth Agreement</th>\n",
       "      <th>qs_relevance</th>\n",
       "      <th>relevance</th>\n",
       "      <th>groundedness_measure_with_cot_reasons</th>\n",
       "      <th>latency</th>\n",
       "      <th>total_cost</th>\n",
       "    </tr>\n",
       "    <tr>\n",
       "      <th>app_id</th>\n",
       "      <th></th>\n",
       "      <th></th>\n",
       "      <th></th>\n",
       "      <th></th>\n",
       "      <th></th>\n",
       "      <th></th>\n",
       "    </tr>\n",
       "  </thead>\n",
       "  <tbody>\n",
       "    <tr>\n",
       "      <th>normal_rag</th>\n",
       "      <td>0.75</td>\n",
       "      <td>0.933333</td>\n",
       "      <td>0.783333</td>\n",
       "      <td>0.5</td>\n",
       "      <td>33.833333</td>\n",
       "      <td>0.0</td>\n",
       "    </tr>\n",
       "    <tr>\n",
       "      <th>neo4j_parental_rag</th>\n",
       "      <td>0.65</td>\n",
       "      <td>0.640000</td>\n",
       "      <td>0.980000</td>\n",
       "      <td>NaN</td>\n",
       "      <td>33.833333</td>\n",
       "      <td>0.0</td>\n",
       "    </tr>\n",
       "  </tbody>\n",
       "</table>\n",
       "</div>"
      ],
      "text/plain": [
       "                    Ground Truth Agreement  qs_relevance  relevance  \\\n",
       "app_id                                                                \n",
       "normal_rag                            0.75      0.933333   0.783333   \n",
       "neo4j_parental_rag                    0.65      0.640000   0.980000   \n",
       "\n",
       "                    groundedness_measure_with_cot_reasons    latency  \\\n",
       "app_id                                                                 \n",
       "normal_rag                                            0.5  33.833333   \n",
       "neo4j_parental_rag                                    NaN  33.833333   \n",
       "\n",
       "                    total_cost  \n",
       "app_id                          \n",
       "normal_rag                 0.0  \n",
       "neo4j_parental_rag         0.0  "
      ]
     },
     "execution_count": 61,
     "metadata": {},
     "output_type": "execute_result"
    }
   ],
   "source": [
    "tru.get_leaderboard(app_ids=[])"
   ]
  },
  {
   "cell_type": "code",
   "execution_count": 62,
   "metadata": {},
   "outputs": [
    {
     "name": "stdout",
     "output_type": "stream",
     "text": [
      "Starting dashboard ...\n",
      "Config file already exists. Skipping writing process.\n",
      "Credentials file already exists. Skipping writing process.\n"
     ]
    },
    {
     "data": {
      "application/vnd.jupyter.widget-view+json": {
       "model_id": "a72f6c833f6a4adabe5e85a751b35140",
       "version_major": 2,
       "version_minor": 0
      },
      "text/plain": [
       "Accordion(children=(VBox(children=(VBox(children=(Label(value='STDOUT'), Output())), VBox(children=(Label(valu…"
      ]
     },
     "metadata": {},
     "output_type": "display_data"
    },
    {
     "name": "stdout",
     "output_type": "stream",
     "text": [
      "Dashboard started at http://192.168.1.17:8501 .\n"
     ]
    },
    {
     "data": {
      "text/plain": [
       "<Popen: returncode: None args: ['streamlit', 'run', '--server.headless=True'...>"
      ]
     },
     "execution_count": 62,
     "metadata": {},
     "output_type": "execute_result"
    },
    {
     "name": "stderr",
     "output_type": "stream",
     "text": [
      "/Users/samvardhan/miniforge3/envs/rag_qa/lib/python3.11/site-packages/numpy/core/fromnumeric.py:3504: RuntimeWarning: Mean of empty slice.\n",
      "  return _methods._mean(a, axis=axis, dtype=dtype,\n",
      "/Users/samvardhan/miniforge3/envs/rag_qa/lib/python3.11/site-packages/numpy/core/_methods.py:129: RuntimeWarning: invalid value encountered in scalar divide\n",
      "  ret = ret.dtype.type(ret / rcount)\n"
     ]
    }
   ],
   "source": [
    "tru.start_dashboard()"
   ]
  },
  {
   "cell_type": "code",
   "execution_count": 50,
   "metadata": {},
   "outputs": [],
   "source": [
    "tru.stop_dashboard()"
   ]
  },
  {
   "cell_type": "code",
   "execution_count": 31,
   "metadata": {},
   "outputs": [],
   "source": [
    "tru.reset_database()"
   ]
  }
 ],
 "metadata": {
  "kernelspec": {
   "display_name": "neo4j_llm",
   "language": "python",
   "name": "python3"
  },
  "language_info": {
   "codemirror_mode": {
    "name": "ipython",
    "version": 3
   },
   "file_extension": ".py",
   "mimetype": "text/x-python",
   "name": "python",
   "nbconvert_exporter": "python",
   "pygments_lexer": "ipython3",
   "version": "3.11.7"
  }
 },
 "nbformat": 4,
 "nbformat_minor": 2
}
